{
 "cells": [
  {
   "cell_type": "code",
   "execution_count": null,
   "id": "1ad958f1",
   "metadata": {},
   "outputs": [],
   "source": [
    "# Import necessary modules\n",
    "import pandas as pd\n",
    "import matplotlib.pyplot as plt\n",
    "import seaborn as sns\n",
    "from sklearn.preprocessing import StandardScaler"
   ]
  },
  {
   "cell_type": "code",
   "execution_count": null,
   "id": "4ceb4468",
   "metadata": {},
   "outputs": [],
   "source": [
    "# Display all columns\n",
    "pd.set_option('display.max_columns', None)\n",
    "# Customize column names\n",
    "col_names = ['ID','Diagnosis','radius','texture','perimeter','area','smoothness','compactness',\n",
    "             'concavity','concave_pts','symmetry','fractal_dim','radius_std','texture_std',\n",
    "             'perimeter_std','area_std', 'smoothness_std','compactness_std','concavity_std',\n",
    "             'concave_pts_std','symmetry_std','fractal_dim_std','radius_ext','texture_ext',\n",
    "             'perimeter_ext','area_ext','smoothness_ext','compactness_ext','concavity_ext',\n",
    "             'concave_pts_ext','symmetry_ext','fractal_dim_ext']\n",
    "# Import data\n",
    "df = pd.read_table('wdbc.data',sep=',',names = col_names)\n",
    "df.head()"
   ]
  },
  {
   "cell_type": "code",
   "execution_count": null,
   "id": "a574359b",
   "metadata": {},
   "outputs": [],
   "source": [
    "# Examine data info and shape\n",
    "display(df.info(), df.shape)"
   ]
  },
  {
   "cell_type": "code",
   "execution_count": null,
   "id": "23b7f0ab",
   "metadata": {},
   "outputs": [],
   "source": [
    "# Check for duplicate IDs\n",
    "df['ID'].value_counts(ascending = False).head()"
   ]
  },
  {
   "cell_type": "code",
   "execution_count": null,
   "id": "d4df4e25",
   "metadata": {},
   "outputs": [],
   "source": [
    "# Check class balance\n",
    "df.Diagnosis.value_counts()"
   ]
  },
  {
   "cell_type": "code",
   "execution_count": null,
   "id": "87b5ee91",
   "metadata": {},
   "outputs": [],
   "source": [
    "# Check for 2 classes\n",
    "df.Diagnosis.unique()"
   ]
  },
  {
   "cell_type": "code",
   "execution_count": null,
   "id": "78d6b198",
   "metadata": {},
   "outputs": [],
   "source": [
    "# Pie chart for class balance\n",
    "plt.rcParams['font.size'] = 12\n",
    "plt.pie(df.Diagnosis.value_counts(), colors = ['darkred','skyblue'], shadow = True,\n",
    "        labels = ['M: 63%','B: 37%']);"
   ]
  },
  {
   "cell_type": "code",
   "execution_count": null,
   "id": "9b62267d",
   "metadata": {},
   "outputs": [],
   "source": [
    "# Check for null\n",
    "df.isnull().sum()"
   ]
  },
  {
   "cell_type": "code",
   "execution_count": null,
   "id": "861d0c31",
   "metadata": {},
   "outputs": [],
   "source": [
    "# Also check for 0 values\n",
    "df[df.eq(0).any(axis = 1)]"
   ]
  },
  {
   "cell_type": "markdown",
   "id": "c84022e9",
   "metadata": {},
   "source": [
    "Represents 13/569 = 2.3% of sample, all B (false) cases. Not in the class of interest so will leave as is."
   ]
  },
  {
   "cell_type": "code",
   "execution_count": null,
   "id": "1fcda6c9",
   "metadata": {},
   "outputs": [],
   "source": [
    "# Scale numerical features to examine distribution\n",
    "num_cols = [i for i in col_names if i != 'Diagnosis']\n",
    "\n",
    "scaler = StandardScaler()\n",
    "scaled_df = scaler.fit_transform(df.drop('Diagnosis', axis = 1))\n",
    "scaled_df = pd.DataFrame(scaled_df, columns=num_cols)\n",
    "scaled_df"
   ]
  },
  {
   "cell_type": "code",
   "execution_count": null,
   "id": "e0dfac9d",
   "metadata": {},
   "outputs": [],
   "source": [
    "# Plot scaled feature distributions\n",
    "plt.rcParams['font.size'] = 14\n",
    "\n",
    "means = ['radius','texture','perimeter','area','smoothness','compactness','concavity',\n",
    "         'concave_pts','symmetry','fractal_dim']\n",
    "stds = ['radius_std','texture_std','perimeter_std','area_std', 'smoothness_std',\n",
    "        'compactness_std','concavity_std','concave_pts_std','symmetry_std','fractal_dim_std']\n",
    "exts = ['radius_ext','texture_ext','perimeter_ext','area_ext','smoothness_ext',\n",
    "        'compactness_ext','concavity_ext','concave_pts_ext','symmetry_ext','fractal_dim_ext']\n",
    "\n",
    "df_means = pd.melt(scaled_df, id_vars = 'ID', var_name = 'Means', value_vars = means)\n",
    "df_stds = pd.melt(scaled_df, id_vars = 'ID', var_name = 'Std errors', value_vars = stds)\n",
    "df_exts = pd.melt(scaled_df, id_vars = 'ID', var_name = 'Extremes', value_vars = exts)\n",
    "         \n",
    "fig,ax = plt.subplots(3, 1, figsize = (18, 38))\n",
    "fig.subplots_adjust(wspace = 10)\n",
    "\n",
    "sns.boxplot(ax = ax[0], x = 'Means', y = 'value', data = df_means)\n",
    "ax[0].set_title('Feature means')\n",
    "ax[0].tick_params(labelrotation = 30)\n",
    "\n",
    "sns.boxplot(ax = ax[1], x = 'Std errors', y = 'value', data = df_stds)\n",
    "ax[1].set_title('Feature standard errors')\n",
    "ax[1].tick_params(labelrotation = 30)\n",
    "\n",
    "sns.boxplot(ax = ax[2], x = 'Extremes', y = 'value', data = df_exts)\n",
    "ax[2].set_title('Feature extremes')\n",
    "ax[2].tick_params(labelrotation = 30)\n",
    "\n",
    "for p in [0, 1, 2]:\n",
    "    ax[p].set_ylabel('Spread')\n",
    "    ax[p].set_xlabel('Feature')\n",
    "\n",
    "plt.show();"
   ]
  },
  {
   "cell_type": "code",
   "execution_count": null,
   "id": "f5c293be",
   "metadata": {},
   "outputs": [],
   "source": [
    "# Plot unscaled feature distributions\n",
    "df_means = pd.melt(df, id_vars = 'ID', var_name = 'Means', value_vars = means)\n",
    "df_stds = pd.melt(df, id_vars = 'ID', var_name = 'Std errors', value_vars = stds)\n",
    "df_exts = pd.melt(df, id_vars = 'ID', var_name = 'Extremes', value_vars = exts)\n",
    "         \n",
    "fig,ax = plt.subplots(3, 1, figsize = (18, 38))\n",
    "fig.subplots_adjust(wspace = 10)\n",
    "\n",
    "sns.boxplot(ax = ax[0], x = 'Means', y = 'value', data = df_means)\n",
    "ax[0].set_title('Feature means')\n",
    "ax[0].tick_params(labelrotation = 30)\n",
    "\n",
    "sns.boxplot(ax = ax[1], x = 'Std errors', y = 'value', data = df_stds)\n",
    "ax[1].set_title('Feature standard errors')\n",
    "ax[1].tick_params(labelrotation = 30)\n",
    "\n",
    "sns.boxplot(ax = ax[2], x = 'Extremes', y = 'value', data = df_exts)\n",
    "ax[2].set_title('Feature extremes')\n",
    "ax[2].tick_params(labelrotation = 30)\n",
    "\n",
    "for p in [0, 1, 2]:\n",
    "    ax[p].set_ylabel('Spread')\n",
    "    ax[p].set_xlabel('Feature')\n",
    "\n",
    "plt.show();"
   ]
  },
  {
   "cell_type": "code",
   "execution_count": null,
   "id": "f85711c5",
   "metadata": {},
   "outputs": [],
   "source": []
  }
 ],
 "metadata": {
  "kernelspec": {
   "display_name": "Python 3 (ipykernel)",
   "language": "python",
   "name": "python3"
  },
  "language_info": {
   "codemirror_mode": {
    "name": "ipython",
    "version": 3
   },
   "file_extension": ".py",
   "mimetype": "text/x-python",
   "name": "python",
   "nbconvert_exporter": "python",
   "pygments_lexer": "ipython3",
   "version": "3.10.9"
  }
 },
 "nbformat": 4,
 "nbformat_minor": 5
}
