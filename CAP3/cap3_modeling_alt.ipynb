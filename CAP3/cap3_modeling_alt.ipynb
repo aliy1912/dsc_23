{
 "cells": [
  {
   "cell_type": "code",
   "execution_count": 113,
   "id": "b02d9494",
   "metadata": {},
   "outputs": [],
   "source": [
    "import pandas as pd\n",
    "import numpy as np\n",
    "import matplotlib.pyplot as plt\n",
    "import seaborn as sns"
   ]
  },
  {
   "cell_type": "code",
   "execution_count": 5,
   "id": "36d6518b",
   "metadata": {},
   "outputs": [
    {
     "data": {
      "text/html": [
       "<div>\n",
       "<style scoped>\n",
       "    .dataframe tbody tr th:only-of-type {\n",
       "        vertical-align: middle;\n",
       "    }\n",
       "\n",
       "    .dataframe tbody tr th {\n",
       "        vertical-align: top;\n",
       "    }\n",
       "\n",
       "    .dataframe thead th {\n",
       "        text-align: right;\n",
       "    }\n",
       "</style>\n",
       "<table border=\"1\" class=\"dataframe\">\n",
       "  <thead>\n",
       "    <tr style=\"text-align: right;\">\n",
       "      <th></th>\n",
       "      <th>about</th>\n",
       "      <th>all</th>\n",
       "      <th>also</th>\n",
       "      <th>always</th>\n",
       "      <th>an</th>\n",
       "      <th>and</th>\n",
       "      <th>at</th>\n",
       "      <th>be</th>\n",
       "      <th>because</th>\n",
       "      <th>but</th>\n",
       "      <th>...</th>\n",
       "      <th>you</th>\n",
       "      <th>your</th>\n",
       "      <th>youre</th>\n",
       "      <th>label</th>\n",
       "      <th>anger_e</th>\n",
       "      <th>fear_e</th>\n",
       "      <th>joy_e</th>\n",
       "      <th>love_e</th>\n",
       "      <th>sadness_e</th>\n",
       "      <th>surprise_e</th>\n",
       "    </tr>\n",
       "  </thead>\n",
       "  <tbody>\n",
       "    <tr>\n",
       "      <th>0</th>\n",
       "      <td>0.022628</td>\n",
       "      <td>0.091254</td>\n",
       "      <td>0.000000</td>\n",
       "      <td>0.027837</td>\n",
       "      <td>0.067843</td>\n",
       "      <td>0.264456</td>\n",
       "      <td>0.068314</td>\n",
       "      <td>0.374517</td>\n",
       "      <td>0.073364</td>\n",
       "      <td>0.000000</td>\n",
       "      <td>...</td>\n",
       "      <td>0.132503</td>\n",
       "      <td>0.184626</td>\n",
       "      <td>0.031418</td>\n",
       "      <td>INFJ</td>\n",
       "      <td>0.135764</td>\n",
       "      <td>0.117830</td>\n",
       "      <td>0.323762</td>\n",
       "      <td>0.081149</td>\n",
       "      <td>0.303030</td>\n",
       "      <td>0.038466</td>\n",
       "    </tr>\n",
       "    <tr>\n",
       "      <th>1</th>\n",
       "      <td>0.020793</td>\n",
       "      <td>0.031446</td>\n",
       "      <td>0.037442</td>\n",
       "      <td>0.025580</td>\n",
       "      <td>0.093516</td>\n",
       "      <td>0.334151</td>\n",
       "      <td>0.031388</td>\n",
       "      <td>0.394769</td>\n",
       "      <td>0.033708</td>\n",
       "      <td>0.040718</td>\n",
       "      <td>...</td>\n",
       "      <td>0.223230</td>\n",
       "      <td>0.053019</td>\n",
       "      <td>0.057743</td>\n",
       "      <td>ENTP</td>\n",
       "      <td>0.138154</td>\n",
       "      <td>0.115532</td>\n",
       "      <td>0.322613</td>\n",
       "      <td>0.088840</td>\n",
       "      <td>0.297431</td>\n",
       "      <td>0.037430</td>\n",
       "    </tr>\n",
       "    <tr>\n",
       "      <th>2</th>\n",
       "      <td>0.058417</td>\n",
       "      <td>0.014724</td>\n",
       "      <td>0.000000</td>\n",
       "      <td>0.053899</td>\n",
       "      <td>0.072980</td>\n",
       "      <td>0.256030</td>\n",
       "      <td>0.044092</td>\n",
       "      <td>0.455007</td>\n",
       "      <td>0.047351</td>\n",
       "      <td>0.071498</td>\n",
       "      <td>...</td>\n",
       "      <td>0.185295</td>\n",
       "      <td>0.104267</td>\n",
       "      <td>0.060834</td>\n",
       "      <td>INTP</td>\n",
       "      <td>0.129505</td>\n",
       "      <td>0.116293</td>\n",
       "      <td>0.352338</td>\n",
       "      <td>0.078601</td>\n",
       "      <td>0.282931</td>\n",
       "      <td>0.040332</td>\n",
       "    </tr>\n",
       "    <tr>\n",
       "      <th>3</th>\n",
       "      <td>0.062748</td>\n",
       "      <td>0.063264</td>\n",
       "      <td>0.050216</td>\n",
       "      <td>0.000000</td>\n",
       "      <td>0.031356</td>\n",
       "      <td>0.162968</td>\n",
       "      <td>0.010525</td>\n",
       "      <td>0.539645</td>\n",
       "      <td>0.045209</td>\n",
       "      <td>0.071678</td>\n",
       "      <td>...</td>\n",
       "      <td>0.173513</td>\n",
       "      <td>0.063998</td>\n",
       "      <td>0.087125</td>\n",
       "      <td>INTJ</td>\n",
       "      <td>0.145261</td>\n",
       "      <td>0.123895</td>\n",
       "      <td>0.317924</td>\n",
       "      <td>0.076562</td>\n",
       "      <td>0.293479</td>\n",
       "      <td>0.042879</td>\n",
       "    </tr>\n",
       "    <tr>\n",
       "      <th>4</th>\n",
       "      <td>0.031435</td>\n",
       "      <td>0.042258</td>\n",
       "      <td>0.012579</td>\n",
       "      <td>0.012891</td>\n",
       "      <td>0.031417</td>\n",
       "      <td>0.214315</td>\n",
       "      <td>0.021090</td>\n",
       "      <td>0.683529</td>\n",
       "      <td>0.045298</td>\n",
       "      <td>0.061558</td>\n",
       "      <td>...</td>\n",
       "      <td>0.163626</td>\n",
       "      <td>0.021374</td>\n",
       "      <td>0.014549</td>\n",
       "      <td>ENTJ</td>\n",
       "      <td>0.141940</td>\n",
       "      <td>0.126254</td>\n",
       "      <td>0.327624</td>\n",
       "      <td>0.075333</td>\n",
       "      <td>0.290540</td>\n",
       "      <td>0.038309</td>\n",
       "    </tr>\n",
       "  </tbody>\n",
       "</table>\n",
       "<p>5 rows × 107 columns</p>\n",
       "</div>"
      ],
      "text/plain": [
       "      about       all      also    always        an       and        at  \\\n",
       "0  0.022628  0.091254  0.000000  0.027837  0.067843  0.264456  0.068314   \n",
       "1  0.020793  0.031446  0.037442  0.025580  0.093516  0.334151  0.031388   \n",
       "2  0.058417  0.014724  0.000000  0.053899  0.072980  0.256030  0.044092   \n",
       "3  0.062748  0.063264  0.050216  0.000000  0.031356  0.162968  0.010525   \n",
       "4  0.031435  0.042258  0.012579  0.012891  0.031417  0.214315  0.021090   \n",
       "\n",
       "         be   because       but  ...       you      your     youre  label  \\\n",
       "0  0.374517  0.073364  0.000000  ...  0.132503  0.184626  0.031418   INFJ   \n",
       "1  0.394769  0.033708  0.040718  ...  0.223230  0.053019  0.057743   ENTP   \n",
       "2  0.455007  0.047351  0.071498  ...  0.185295  0.104267  0.060834   INTP   \n",
       "3  0.539645  0.045209  0.071678  ...  0.173513  0.063998  0.087125   INTJ   \n",
       "4  0.683529  0.045298  0.061558  ...  0.163626  0.021374  0.014549   ENTJ   \n",
       "\n",
       "    anger_e    fear_e     joy_e    love_e  sadness_e  surprise_e  \n",
       "0  0.135764  0.117830  0.323762  0.081149   0.303030    0.038466  \n",
       "1  0.138154  0.115532  0.322613  0.088840   0.297431    0.037430  \n",
       "2  0.129505  0.116293  0.352338  0.078601   0.282931    0.040332  \n",
       "3  0.145261  0.123895  0.317924  0.076562   0.293479    0.042879  \n",
       "4  0.141940  0.126254  0.327624  0.075333   0.290540    0.038309  \n",
       "\n",
       "[5 rows x 107 columns]"
      ]
     },
     "execution_count": 5,
     "metadata": {},
     "output_type": "execute_result"
    }
   ],
   "source": [
    "df = pd.read_csv('tfidf_w_sentiment.csv', index_col = 0)\n",
    "df.head()"
   ]
  },
  {
   "cell_type": "code",
   "execution_count": null,
   "id": "d65eafd8",
   "metadata": {},
   "outputs": [],
   "source": [
    "type_labels = df.label"
   ]
  },
  {
   "cell_type": "code",
   "execution_count": 8,
   "id": "5c157712",
   "metadata": {},
   "outputs": [
    {
     "data": {
      "text/html": [
       "<div>\n",
       "<style scoped>\n",
       "    .dataframe tbody tr th:only-of-type {\n",
       "        vertical-align: middle;\n",
       "    }\n",
       "\n",
       "    .dataframe tbody tr th {\n",
       "        vertical-align: top;\n",
       "    }\n",
       "\n",
       "    .dataframe thead th {\n",
       "        text-align: right;\n",
       "    }\n",
       "</style>\n",
       "<table border=\"1\" class=\"dataframe\">\n",
       "  <thead>\n",
       "    <tr style=\"text-align: right;\">\n",
       "      <th></th>\n",
       "      <th>about</th>\n",
       "      <th>all</th>\n",
       "      <th>also</th>\n",
       "      <th>always</th>\n",
       "      <th>an</th>\n",
       "      <th>and</th>\n",
       "      <th>at</th>\n",
       "      <th>be</th>\n",
       "      <th>because</th>\n",
       "      <th>but</th>\n",
       "      <th>...</th>\n",
       "      <th>anger_e</th>\n",
       "      <th>fear_e</th>\n",
       "      <th>joy_e</th>\n",
       "      <th>love_e</th>\n",
       "      <th>sadness_e</th>\n",
       "      <th>surprise_e</th>\n",
       "      <th>i_e</th>\n",
       "      <th>n_s</th>\n",
       "      <th>f_t</th>\n",
       "      <th>j_p</th>\n",
       "    </tr>\n",
       "  </thead>\n",
       "  <tbody>\n",
       "    <tr>\n",
       "      <th>0</th>\n",
       "      <td>0.022628</td>\n",
       "      <td>0.091254</td>\n",
       "      <td>0.000000</td>\n",
       "      <td>0.027837</td>\n",
       "      <td>0.067843</td>\n",
       "      <td>0.264456</td>\n",
       "      <td>0.068314</td>\n",
       "      <td>0.374517</td>\n",
       "      <td>0.073364</td>\n",
       "      <td>0.000000</td>\n",
       "      <td>...</td>\n",
       "      <td>0.135764</td>\n",
       "      <td>0.117830</td>\n",
       "      <td>0.323762</td>\n",
       "      <td>0.081149</td>\n",
       "      <td>0.303030</td>\n",
       "      <td>0.038466</td>\n",
       "      <td>I</td>\n",
       "      <td>N</td>\n",
       "      <td>F</td>\n",
       "      <td>J</td>\n",
       "    </tr>\n",
       "    <tr>\n",
       "      <th>1</th>\n",
       "      <td>0.020793</td>\n",
       "      <td>0.031446</td>\n",
       "      <td>0.037442</td>\n",
       "      <td>0.025580</td>\n",
       "      <td>0.093516</td>\n",
       "      <td>0.334151</td>\n",
       "      <td>0.031388</td>\n",
       "      <td>0.394769</td>\n",
       "      <td>0.033708</td>\n",
       "      <td>0.040718</td>\n",
       "      <td>...</td>\n",
       "      <td>0.138154</td>\n",
       "      <td>0.115532</td>\n",
       "      <td>0.322613</td>\n",
       "      <td>0.088840</td>\n",
       "      <td>0.297431</td>\n",
       "      <td>0.037430</td>\n",
       "      <td>E</td>\n",
       "      <td>N</td>\n",
       "      <td>T</td>\n",
       "      <td>P</td>\n",
       "    </tr>\n",
       "    <tr>\n",
       "      <th>2</th>\n",
       "      <td>0.058417</td>\n",
       "      <td>0.014724</td>\n",
       "      <td>0.000000</td>\n",
       "      <td>0.053899</td>\n",
       "      <td>0.072980</td>\n",
       "      <td>0.256030</td>\n",
       "      <td>0.044092</td>\n",
       "      <td>0.455007</td>\n",
       "      <td>0.047351</td>\n",
       "      <td>0.071498</td>\n",
       "      <td>...</td>\n",
       "      <td>0.129505</td>\n",
       "      <td>0.116293</td>\n",
       "      <td>0.352338</td>\n",
       "      <td>0.078601</td>\n",
       "      <td>0.282931</td>\n",
       "      <td>0.040332</td>\n",
       "      <td>I</td>\n",
       "      <td>N</td>\n",
       "      <td>T</td>\n",
       "      <td>P</td>\n",
       "    </tr>\n",
       "    <tr>\n",
       "      <th>3</th>\n",
       "      <td>0.062748</td>\n",
       "      <td>0.063264</td>\n",
       "      <td>0.050216</td>\n",
       "      <td>0.000000</td>\n",
       "      <td>0.031356</td>\n",
       "      <td>0.162968</td>\n",
       "      <td>0.010525</td>\n",
       "      <td>0.539645</td>\n",
       "      <td>0.045209</td>\n",
       "      <td>0.071678</td>\n",
       "      <td>...</td>\n",
       "      <td>0.145261</td>\n",
       "      <td>0.123895</td>\n",
       "      <td>0.317924</td>\n",
       "      <td>0.076562</td>\n",
       "      <td>0.293479</td>\n",
       "      <td>0.042879</td>\n",
       "      <td>I</td>\n",
       "      <td>N</td>\n",
       "      <td>T</td>\n",
       "      <td>J</td>\n",
       "    </tr>\n",
       "    <tr>\n",
       "      <th>4</th>\n",
       "      <td>0.031435</td>\n",
       "      <td>0.042258</td>\n",
       "      <td>0.012579</td>\n",
       "      <td>0.012891</td>\n",
       "      <td>0.031417</td>\n",
       "      <td>0.214315</td>\n",
       "      <td>0.021090</td>\n",
       "      <td>0.683529</td>\n",
       "      <td>0.045298</td>\n",
       "      <td>0.061558</td>\n",
       "      <td>...</td>\n",
       "      <td>0.141940</td>\n",
       "      <td>0.126254</td>\n",
       "      <td>0.327624</td>\n",
       "      <td>0.075333</td>\n",
       "      <td>0.290540</td>\n",
       "      <td>0.038309</td>\n",
       "      <td>E</td>\n",
       "      <td>N</td>\n",
       "      <td>T</td>\n",
       "      <td>J</td>\n",
       "    </tr>\n",
       "  </tbody>\n",
       "</table>\n",
       "<p>5 rows × 110 columns</p>\n",
       "</div>"
      ],
      "text/plain": [
       "      about       all      also    always        an       and        at  \\\n",
       "0  0.022628  0.091254  0.000000  0.027837  0.067843  0.264456  0.068314   \n",
       "1  0.020793  0.031446  0.037442  0.025580  0.093516  0.334151  0.031388   \n",
       "2  0.058417  0.014724  0.000000  0.053899  0.072980  0.256030  0.044092   \n",
       "3  0.062748  0.063264  0.050216  0.000000  0.031356  0.162968  0.010525   \n",
       "4  0.031435  0.042258  0.012579  0.012891  0.031417  0.214315  0.021090   \n",
       "\n",
       "         be   because       but  ...   anger_e    fear_e     joy_e    love_e  \\\n",
       "0  0.374517  0.073364  0.000000  ...  0.135764  0.117830  0.323762  0.081149   \n",
       "1  0.394769  0.033708  0.040718  ...  0.138154  0.115532  0.322613  0.088840   \n",
       "2  0.455007  0.047351  0.071498  ...  0.129505  0.116293  0.352338  0.078601   \n",
       "3  0.539645  0.045209  0.071678  ...  0.145261  0.123895  0.317924  0.076562   \n",
       "4  0.683529  0.045298  0.061558  ...  0.141940  0.126254  0.327624  0.075333   \n",
       "\n",
       "   sadness_e  surprise_e  i_e  n_s  f_t  j_p  \n",
       "0   0.303030    0.038466    I    N    F    J  \n",
       "1   0.297431    0.037430    E    N    T    P  \n",
       "2   0.282931    0.040332    I    N    T    P  \n",
       "3   0.293479    0.042879    I    N    T    J  \n",
       "4   0.290540    0.038309    E    N    T    J  \n",
       "\n",
       "[5 rows x 110 columns]"
      ]
     },
     "execution_count": 8,
     "metadata": {},
     "output_type": "execute_result"
    }
   ],
   "source": [
    "df['i_e'] = df['label'].astype(str).str[0]\n",
    "df['n_s'] = df['label'].astype(str).str[1]\n",
    "df['f_t'] = df['label'].astype(str).str[2]\n",
    "df['j_p'] = df['label'].astype(str).str[3]\n",
    "df.drop('label', axis = 1, inplace = True)\n",
    "df.head()"
   ]
  },
  {
   "cell_type": "code",
   "execution_count": 11,
   "id": "ad015d10",
   "metadata": {},
   "outputs": [],
   "source": [
    "dim_cols = ['i_e','n_s','f_t','j_p']\n",
    "X = df.drop(dim_cols, axis = 1)"
   ]
  },
  {
   "cell_type": "markdown",
   "id": "118cd078",
   "metadata": {},
   "source": [
    "# Model selection"
   ]
  },
  {
   "cell_type": "markdown",
   "id": "8ac39e56",
   "metadata": {},
   "source": [
    "Logistic regression, MLP, RandomForest"
   ]
  },
  {
   "cell_type": "code",
   "execution_count": 16,
   "id": "24a7a3af",
   "metadata": {},
   "outputs": [],
   "source": [
    "from sklearn.linear_model import LogisticRegression\n",
    "from sklearn.neural_network import MLPClassifier\n",
    "from sklearn.ensemble import RandomForestClassifier"
   ]
  },
  {
   "cell_type": "code",
   "execution_count": 39,
   "id": "a156c9c5",
   "metadata": {},
   "outputs": [],
   "source": [
    "from sklearn.model_selection import train_test_split\n",
    "from sklearn.preprocessing import LabelEncoder"
   ]
  },
  {
   "cell_type": "code",
   "execution_count": 32,
   "id": "be5fa5be",
   "metadata": {},
   "outputs": [],
   "source": [
    "from sklearn.metrics import balanced_accuracy_score, f1_score, roc_auc_score"
   ]
  },
  {
   "cell_type": "code",
   "execution_count": 77,
   "id": "c9082220",
   "metadata": {},
   "outputs": [],
   "source": [
    "from sklearn.model_selection import GridSearchCV"
   ]
  },
  {
   "cell_type": "code",
   "execution_count": 67,
   "id": "f043e195",
   "metadata": {},
   "outputs": [],
   "source": [
    "def fit_train_model(X, y, model):\n",
    "    X_train, X_test, y_train, y_test = train_test_split(X, y, test_size = .2,\n",
    "                                                        random_state = 17)\n",
    "    \n",
    "    y_test_numeric = LabelEncoder().fit_transform(y_test)\n",
    "    \n",
    "    model.fit(X_train, y_train)\n",
    "    init_pred = model.predict(X_test)\n",
    "    \n",
    "    init_ba = balanced_accuracy_score(y_test, init_pred)\n",
    "    print('Init balanced accuracy:', f'{init_ba:.3f}')\n",
    "    "
   ]
  },
  {
   "cell_type": "markdown",
   "id": "28012634",
   "metadata": {},
   "source": [
    "# Dimension 0 - I/E"
   ]
  },
  {
   "cell_type": "code",
   "execution_count": 12,
   "id": "b9d66698",
   "metadata": {},
   "outputs": [],
   "source": [
    "# model_dim0\n",
    "y_dim0 = df.i_e"
   ]
  },
  {
   "cell_type": "code",
   "execution_count": 76,
   "id": "76180eeb",
   "metadata": {},
   "outputs": [
    {
     "name": "stdout",
     "output_type": "stream",
     "text": [
      "LR, Dimension 0:\n",
      "Init balanced accuracy: 0.504\n",
      "MLP, Dimension 0:\n"
     ]
    },
    {
     "name": "stderr",
     "output_type": "stream",
     "text": [
      "/Users/ali/anaconda3/lib/python3.10/site-packages/sklearn/neural_network/_multilayer_perceptron.py:684: ConvergenceWarning: Stochastic Optimizer: Maximum iterations (200) reached and the optimization hasn't converged yet.\n",
      "  warnings.warn(\n"
     ]
    },
    {
     "name": "stdout",
     "output_type": "stream",
     "text": [
      "Init balanced accuracy: 0.533\n",
      "RF, Dimension 0:\n",
      "Init balanced accuracy: 0.499\n"
     ]
    }
   ],
   "source": [
    "print('LR, Dimension 0:')\n",
    "fit_train_model(X, y_dim0, LogisticRegression())\n",
    "print('MLP, Dimension 0:')\n",
    "fit_train_model(X, y_dim0, MLPClassifier())\n",
    "print('RF, Dimension 0:')\n",
    "fit_train_model(X, y_dim0, RandomForestClassifier())"
   ]
  },
  {
   "cell_type": "markdown",
   "id": "05b32406",
   "metadata": {},
   "source": [
    "Dimension 0 best init model - MLPClassifier"
   ]
  },
  {
   "cell_type": "code",
   "execution_count": 85,
   "id": "2a1bda6d",
   "metadata": {},
   "outputs": [],
   "source": [
    "# Hyperparameter tuning with grid search - Dimension 0\n",
    "X_tr, X_ts, y_tr, y_ts = train_test_split(X, y_dim0, test_size = .2, random_state = 17)\n",
    "mlp = MLPClassifier(random_state = 17)\n",
    "\n",
    "param_grid = {\n",
    "    'hidden_layer_sizes': [(50,), (100,), (150,)],\n",
    "    'activation': ['relu', 'tanh', 'logistic'],\n",
    "    'solver': ['sgd', 'adam'],\n",
    "    'alpha': [0.0001, 0.001, 0.01],\n",
    "    'learning_rate': ['constant', 'adaptive'],\n",
    "    'max_iter': [2000, 2500]\n",
    "}\n",
    "\n",
    "gs_dim0 = GridSearchCV(mlp, param_grid, cv = 3, scoring = 'balanced_accuracy', n_jobs = -1)"
   ]
  },
  {
   "cell_type": "code",
   "execution_count": 86,
   "id": "190948dc",
   "metadata": {},
   "outputs": [
    {
     "name": "stdout",
     "output_type": "stream",
     "text": [
      "Best parameters: {'activation': 'relu', 'alpha': 0.001, 'hidden_layer_sizes': (50,), 'learning_rate': 'constant', 'max_iter': 2000, 'solver': 'adam'}\n",
      "Best score: 0.547409974898695\n"
     ]
    }
   ],
   "source": [
    "gs_dim0.fit(X_tr, y_tr)\n",
    "\n",
    "print(\"Best parameters:\", gs_dim0.best_params_)\n",
    "print(\"Best score:\", gs_dim0.best_score_)"
   ]
  },
  {
   "cell_type": "code",
   "execution_count": 88,
   "id": "5b4bc208",
   "metadata": {},
   "outputs": [],
   "source": [
    "model_dim0 = MLPClassifier(activation = 'relu', alpha = 0.001, learning_rate = 'constant',\n",
    "                           hidden_layer_sizes = (50,), max_iter = 2000, solver = 'adam',\n",
    "                           random_state = 17)"
   ]
  },
  {
   "cell_type": "code",
   "execution_count": 127,
   "id": "3dc9d50c",
   "metadata": {},
   "outputs": [],
   "source": [
    "from sklearn.metrics import confusion_matrix\n",
    "\n",
    "def plot_cm(X, y, model, title):\n",
    "    X_train, X_test, y_train, y_test = train_test_split(X, y, test_size = .2,\n",
    "                                                        random_state = 17)\n",
    "    model.fit(X_train, y_train)\n",
    "    y_pred = model.predict(X_test)\n",
    "    \n",
    "    label_encoder = LabelEncoder()\n",
    "    y_test_encoded = label_encoder.fit_transform(y_test)\n",
    "    print('Classes:', label_encoder.classes_)\n",
    "    \n",
    "    cm = confusion_matrix(y_test, y_pred)\n",
    "    \n",
    "    plt.figure(figsize = (6,4))\n",
    "    sns.heatmap(cm, annot = True, cmap = 'Blues', fmt = 'g')\n",
    "    plt.xlabel('Predicted')\n",
    "    plt.ylabel('True')\n",
    "    plt.title(title, fontsize = 14)\n",
    "    plt.show()\n",
    "    \n",
    "def ba_score(X, y, model):\n",
    "    X_train, X_test, y_train, y_test = train_test_split(X, y, test_size = .2,\n",
    "                                                        random_state = 17)\n",
    "    model.fit(X_train, y_train)\n",
    "    y_pred = model.predict(X_test)\n",
    "    \n",
    "    print('Balanced accuracy score:', f'{balanced_accuracy_score(y_test, y_pred):.4f}')"
   ]
  },
  {
   "cell_type": "code",
   "execution_count": 128,
   "id": "fe0fca6d",
   "metadata": {},
   "outputs": [
    {
     "name": "stdout",
     "output_type": "stream",
     "text": [
      "Balanced accuracy score: 0.5692\n",
      "Classes: ['E' 'I']\n"
     ]
    },
    {
     "data": {
      "image/png": "[encoded data removed]",
      "text/plain": [
       "<Figure size 600x400 with 2 Axes>"
      ]
     },
     "metadata": {},
     "output_type": "display_data"
    }
   ],
   "source": [
    "ba_score(X, y_dim0, model_dim0)\n",
    "plot_cm(X, y_dim0, model_dim0, 'Confusion matrix dimension 0 - I/E')"
   ]
  },
  {
   "cell_type": "markdown",
   "id": "eb6f8909",
   "metadata": {},
   "source": [
    "Dimension 0 - Better at predicting I than E, probably because more I than E in the data. Appears that this is the best balanced accuracy?"
   ]
  },
  {
   "cell_type": "markdown",
   "id": "5d888387",
   "metadata": {},
   "source": [
    "# Dimension 1 - N/S"
   ]
  },
  {
   "cell_type": "code",
   "execution_count": 13,
   "id": "301cb5a2",
   "metadata": {},
   "outputs": [],
   "source": [
    "# model_dim1\n",
    "y_dim1 = df.n_s"
   ]
  },
  {
   "cell_type": "code",
   "execution_count": 71,
   "id": "f436b006",
   "metadata": {},
   "outputs": [
    {
     "name": "stdout",
     "output_type": "stream",
     "text": [
      "LR, Dimension 1:\n",
      "Init balanced accuracy: 0.500\n",
      "MLP, Dimension 1:\n"
     ]
    },
    {
     "name": "stderr",
     "output_type": "stream",
     "text": [
      "/Users/ali/anaconda3/lib/python3.10/site-packages/sklearn/neural_network/_multilayer_perceptron.py:684: ConvergenceWarning: Stochastic Optimizer: Maximum iterations (200) reached and the optimization hasn't converged yet.\n",
      "  warnings.warn(\n"
     ]
    },
    {
     "name": "stdout",
     "output_type": "stream",
     "text": [
      "Init balanced accuracy: 0.523\n",
      "RF, Dimension 1:\n",
      "Init balanced accuracy: 0.500\n"
     ]
    }
   ],
   "source": [
    "print('LR, Dimension 1:')\n",
    "fit_train_model(X, y_dim1, LogisticRegression())\n",
    "print('MLP, Dimension 1:')\n",
    "fit_train_model(X, y_dim1, MLPClassifier())\n",
    "print('RF, Dimension 1:')\n",
    "fit_train_model(X, y_dim1, RandomForestClassifier())"
   ]
  },
  {
   "cell_type": "markdown",
   "id": "b773bb54",
   "metadata": {},
   "source": [
    "Dimension 1 best init model - MLPClassifier"
   ]
  },
  {
   "cell_type": "code",
   "execution_count": 89,
   "id": "471f57be",
   "metadata": {},
   "outputs": [
    {
     "name": "stdout",
     "output_type": "stream",
     "text": [
      "Best parameters: {'activation': 'relu', 'alpha': 0.0001, 'hidden_layer_sizes': (150,), 'learning_rate': 'constant', 'max_iter': 2000, 'solver': 'adam'}\n",
      "Best score: 0.5494739987979629\n"
     ]
    }
   ],
   "source": [
    "# Hyperparameter tuning with grid search - Dimension 1\n",
    "X_tr, X_ts, y_tr, y_ts = train_test_split(X, y_dim1, test_size = .2, random_state = 17)\n",
    "mlp = MLPClassifier(random_state = 17)\n",
    "\n",
    "param_grid = {\n",
    "    'hidden_layer_sizes': [(50,), (100,), (150,)],\n",
    "    'activation': ['relu', 'tanh', 'logistic'],\n",
    "    'solver': ['sgd', 'adam'],\n",
    "    'alpha': [0.0001, 0.001, 0.01],\n",
    "    'learning_rate': ['constant', 'adaptive'],\n",
    "    'max_iter': [2000, 2500]\n",
    "}\n",
    "\n",
    "gs_dim1 = GridSearchCV(mlp, param_grid, cv = 3, scoring = 'balanced_accuracy', n_jobs = -1)\n",
    "gs_dim1.fit(X_tr, y_tr)\n",
    "\n",
    "print(\"Best parameters:\", gs_dim1.best_params_)\n",
    "print(\"Best score:\", gs_dim1.best_score_)"
   ]
  },
  {
   "cell_type": "code",
   "execution_count": 90,
   "id": "f8a292da",
   "metadata": {},
   "outputs": [],
   "source": [
    "model_dim1 = MLPClassifier(activation = 'relu', alpha = .001, learning_rate = 'constant',\n",
    "                           hidden_layer_sizes = (150,), max_iter = 2000, solver = 'adam',\n",
    "                           random_state = 17)"
   ]
  },
  {
   "cell_type": "code",
   "execution_count": 129,
   "id": "112d5beb",
   "metadata": {},
   "outputs": [
    {
     "name": "stdout",
     "output_type": "stream",
     "text": [
      "Balanced accuracy score: 0.5303\n",
      "Classes: ['N' 'S']\n"
     ]
    },
    {
     "data": {
      "image/png": "[encoded data removed]",
      "text/plain": [
       "<Figure size 600x400 with 2 Axes>"
      ]
     },
     "metadata": {},
     "output_type": "display_data"
    }
   ],
   "source": [
    "ba_score(X, y_dim1, model_dim1)\n",
    "plot_cm(X, y_dim1, model_dim1, 'Confusion matrix dimension 1 - N/S')"
   ]
  },
  {
   "cell_type": "markdown",
   "id": "521c21a4",
   "metadata": {},
   "source": [
    "Dimension 1 - Better at predicting N than S, probably because more N than S in the data. Appears that this is the best balanced accuracy?"
   ]
  },
  {
   "cell_type": "markdown",
   "id": "77a55f50",
   "metadata": {},
   "source": [
    "# Dimension 2 - F/T"
   ]
  },
  {
   "cell_type": "code",
   "execution_count": 14,
   "id": "83e78b0e",
   "metadata": {},
   "outputs": [],
   "source": [
    "# model_dim2\n",
    "y_dim2 = df.f_t"
   ]
  },
  {
   "cell_type": "code",
   "execution_count": 72,
   "id": "9c988e97",
   "metadata": {},
   "outputs": [
    {
     "name": "stdout",
     "output_type": "stream",
     "text": [
      "LR, Dimension 2:\n",
      "Init balanced accuracy: 0.663\n",
      "MLP, Dimension 2:\n"
     ]
    },
    {
     "name": "stderr",
     "output_type": "stream",
     "text": [
      "/Users/ali/anaconda3/lib/python3.10/site-packages/sklearn/neural_network/_multilayer_perceptron.py:684: ConvergenceWarning: Stochastic Optimizer: Maximum iterations (200) reached and the optimization hasn't converged yet.\n",
      "  warnings.warn(\n"
     ]
    },
    {
     "name": "stdout",
     "output_type": "stream",
     "text": [
      "Init balanced accuracy: 0.671\n",
      "RF, Dimension 2:\n",
      "Init balanced accuracy: 0.660\n"
     ]
    }
   ],
   "source": [
    "print('LR, Dimension 2:')\n",
    "fit_train_model(X, y_dim2, LogisticRegression())\n",
    "print('MLP, Dimension 2:')\n",
    "fit_train_model(X, y_dim2, MLPClassifier())\n",
    "print('RF, Dimension 2:')\n",
    "fit_train_model(X, y_dim2, RandomForestClassifier())"
   ]
  },
  {
   "cell_type": "markdown",
   "id": "648761ce",
   "metadata": {},
   "source": [
    "Dimension 2 best init model - MLPClassifier\n",
    "F/T seems to be the easiest to predict?"
   ]
  },
  {
   "cell_type": "code",
   "execution_count": 91,
   "id": "3c4576af",
   "metadata": {},
   "outputs": [
    {
     "name": "stdout",
     "output_type": "stream",
     "text": [
      "Best parameters: {'activation': 'logistic', 'alpha': 0.001, 'hidden_layer_sizes': (50,), 'learning_rate': 'constant', 'max_iter': 2000, 'solver': 'adam'}\n",
      "Best score: 0.6992888815222534\n"
     ]
    }
   ],
   "source": [
    "# Hyperparameter tuning with grid search - Dimension 2\n",
    "X_tr, X_ts, y_tr, y_ts = train_test_split(X, y_dim2, test_size = .2, random_state = 17)\n",
    "mlp = MLPClassifier(random_state = 17)\n",
    "\n",
    "param_grid = {\n",
    "    'hidden_layer_sizes': [(50,), (100,), (150,)],\n",
    "    'activation': ['relu', 'tanh', 'logistic'],\n",
    "    'solver': ['sgd', 'adam'],\n",
    "    'alpha': [0.0001, 0.001, 0.01],\n",
    "    'learning_rate': ['constant', 'adaptive'],\n",
    "    'max_iter': [2000, 2500]\n",
    "}\n",
    "\n",
    "gs_dim2 = GridSearchCV(mlp, param_grid, cv = 3, scoring = 'balanced_accuracy', n_jobs = -1)\n",
    "gs_dim2.fit(X_tr, y_tr)\n",
    "\n",
    "print(\"Best parameters:\", gs_dim2.best_params_)\n",
    "print(\"Best score:\", gs_dim2.best_score_)"
   ]
  },
  {
   "cell_type": "code",
   "execution_count": 92,
   "id": "11c641a7",
   "metadata": {},
   "outputs": [],
   "source": [
    "model_dim2 = MLPClassifier(activation = 'logistic', alpha = .001, learning_rate = 'constant',\n",
    "                           hidden_layer_sizes = (50,), max_iter = 2000, solver = 'adam',\n",
    "                           random_state = 17)"
   ]
  },
  {
   "cell_type": "code",
   "execution_count": 130,
   "id": "3f676c2d",
   "metadata": {},
   "outputs": [
    {
     "name": "stdout",
     "output_type": "stream",
     "text": [
      "Balanced accuracy score: 0.6776\n",
      "Classes: ['F' 'T']\n"
     ]
    },
    {
     "data": {
      "image/png": "[encoded data removed]",
      "text/plain": [
       "<Figure size 600x400 with 2 Axes>"
      ]
     },
     "metadata": {},
     "output_type": "display_data"
    }
   ],
   "source": [
    "ba_score(X, y_dim2, model_dim2)\n",
    "plot_cm(X, y_dim2, model_dim2, 'Confusion matrix dimension 2 - F/T')"
   ]
  },
  {
   "cell_type": "markdown",
   "id": "31049b80",
   "metadata": {},
   "source": [
    "Dimension 2 - Comparable performance on both classes (F, T). Good balanced accuracy, 68%."
   ]
  },
  {
   "cell_type": "markdown",
   "id": "0874f5c7",
   "metadata": {},
   "source": [
    "# Dimension 3 - J/P"
   ]
  },
  {
   "cell_type": "code",
   "execution_count": 15,
   "id": "7008b1f0",
   "metadata": {},
   "outputs": [],
   "source": [
    "# model_dim3\n",
    "y_dim3 = df.j_p"
   ]
  },
  {
   "cell_type": "code",
   "execution_count": 73,
   "id": "6541bf2b",
   "metadata": {},
   "outputs": [
    {
     "name": "stdout",
     "output_type": "stream",
     "text": [
      "LR, Dimension 3:\n",
      "Init balanced accuracy: 0.527\n",
      "MLP, Dimension 3:\n"
     ]
    },
    {
     "name": "stderr",
     "output_type": "stream",
     "text": [
      "/Users/ali/anaconda3/lib/python3.10/site-packages/sklearn/neural_network/_multilayer_perceptron.py:684: ConvergenceWarning: Stochastic Optimizer: Maximum iterations (200) reached and the optimization hasn't converged yet.\n",
      "  warnings.warn(\n"
     ]
    },
    {
     "name": "stdout",
     "output_type": "stream",
     "text": [
      "Init balanced accuracy: 0.523\n",
      "RF, Dimension 3:\n",
      "Init balanced accuracy: 0.510\n"
     ]
    }
   ],
   "source": [
    "print('LR, Dimension 3:')\n",
    "fit_train_model(X, y_dim3, LogisticRegression())\n",
    "print('MLP, Dimension 3:')\n",
    "fit_train_model(X, y_dim3, MLPClassifier())\n",
    "print('RF, Dimension 3:')\n",
    "fit_train_model(X, y_dim3, RandomForestClassifier())"
   ]
  },
  {
   "cell_type": "markdown",
   "id": "78eb52fd",
   "metadata": {},
   "source": [
    "Dimension 3 best init model - LogisticRegression"
   ]
  },
  {
   "cell_type": "code",
   "execution_count": 93,
   "id": "38bf271c",
   "metadata": {},
   "outputs": [
    {
     "name": "stdout",
     "output_type": "stream",
     "text": [
      "Best parameters: {'activation': 'logistic', 'alpha': 0.0001, 'hidden_layer_sizes': (100,), 'learning_rate': 'constant', 'max_iter': 2000, 'solver': 'adam'}\n",
      "Best score: 0.5476415727491314\n"
     ]
    }
   ],
   "source": [
    "# Hyperparameter tuning with grid search - Dimension 3\n",
    "X_tr, X_ts, y_tr, y_ts = train_test_split(X, y_dim3, test_size = .2, random_state = 17)\n",
    "mlp = MLPClassifier(random_state = 17)\n",
    "\n",
    "param_grid = {\n",
    "    'hidden_layer_sizes': [(50,), (100,), (150,)],\n",
    "    'activation': ['relu', 'tanh', 'logistic'],\n",
    "    'solver': ['sgd', 'adam'],\n",
    "    'alpha': [0.0001, 0.001, 0.01],\n",
    "    'learning_rate': ['constant', 'adaptive'],\n",
    "    'max_iter': [2000, 2500]\n",
    "}\n",
    "\n",
    "gs_dim3 = GridSearchCV(mlp, param_grid, cv = 3, scoring = 'balanced_accuracy', n_jobs = -1)\n",
    "gs_dim3.fit(X_tr, y_tr)\n",
    "\n",
    "print(\"Best parameters:\", gs_dim3.best_params_)\n",
    "print(\"Best score:\", gs_dim3.best_score_)"
   ]
  },
  {
   "cell_type": "code",
   "execution_count": 95,
   "id": "a6c5c4b7",
   "metadata": {},
   "outputs": [
    {
     "name": "stdout",
     "output_type": "stream",
     "text": [
      "Best parameters: {'C': 100, 'max_iter': 5000, 'penalty': 'l2', 'solver': 'liblinear'}\n",
      "Best score: 0.5450185448205535\n"
     ]
    }
   ],
   "source": [
    "# Hyperparameter tuning with grid search - Dimension 3\n",
    "X_tr, X_ts, y_tr, y_ts = train_test_split(X, y_dim3, test_size = .2, random_state = 17)\n",
    "lr = LogisticRegression(random_state = 17)\n",
    "\n",
    "param_grid = {\n",
    "    'penalty': ['l1', 'l2'],\n",
    "    'C': [0.001, 0.01, 0.1, 1, 10, 100],\n",
    "    'solver': ['liblinear', 'saga'],\n",
    "    'max_iter': [5000, 10000, 15000]\n",
    "}\n",
    "\n",
    "gs_dim3 = GridSearchCV(lr, param_grid, cv = 3, scoring = 'balanced_accuracy', n_jobs = -1)\n",
    "gs_dim3.fit(X_tr, y_tr)\n",
    "\n",
    "print(\"Best parameters:\", gs_dim3.best_params_)\n",
    "print(\"Best score:\", gs_dim3.best_score_)"
   ]
  },
  {
   "cell_type": "code",
   "execution_count": 96,
   "id": "b3128204",
   "metadata": {},
   "outputs": [],
   "source": [
    "model_dim3 = MLPClassifier(activation = 'logistic', alpha = .0001, learning_rate ='constant',\n",
    "                           hidden_layer_sizes = (100,), max_iter = 2000, solver = 'adam',\n",
    "                           random_state = 17)"
   ]
  },
  {
   "cell_type": "code",
   "execution_count": 131,
   "id": "f6316850",
   "metadata": {},
   "outputs": [
    {
     "name": "stdout",
     "output_type": "stream",
     "text": [
      "Balanced accuracy score: 0.5335\n",
      "Classes: ['J' 'P']\n"
     ]
    },
    {
     "data": {
      "image/png": "[encoded data removed]",
      "text/plain": [
       "<Figure size 600x400 with 2 Axes>"
      ]
     },
     "metadata": {},
     "output_type": "display_data"
    }
   ],
   "source": [
    "ba_score(X, y_dim3, model_dim3)\n",
    "plot_cm(X, y_dim3, model_dim3, 'Confusion matrix dimension 2 - J/P')"
   ]
  },
  {
   "cell_type": "markdown",
   "id": "7604a470",
   "metadata": {},
   "source": [
    "Dimension 3 - Biased toward P predictions? Approx 2:3 proportion of J to P doesn't explain the bias. Appears that this is the best balanced accuracy?"
   ]
  },
  {
   "cell_type": "markdown",
   "id": "e6833be3",
   "metadata": {},
   "source": [
    "# Pipeline"
   ]
  },
  {
   "cell_type": "code",
   "execution_count": 139,
   "id": "3a108196",
   "metadata": {},
   "outputs": [
    {
     "data": {
      "text/html": [
       "<div>\n",
       "<style scoped>\n",
       "    .dataframe tbody tr th:only-of-type {\n",
       "        vertical-align: middle;\n",
       "    }\n",
       "\n",
       "    .dataframe tbody tr th {\n",
       "        vertical-align: top;\n",
       "    }\n",
       "\n",
       "    .dataframe thead th {\n",
       "        text-align: right;\n",
       "    }\n",
       "</style>\n",
       "<table border=\"1\" class=\"dataframe\">\n",
       "  <thead>\n",
       "    <tr style=\"text-align: right;\">\n",
       "      <th></th>\n",
       "      <th>about</th>\n",
       "      <th>all</th>\n",
       "      <th>also</th>\n",
       "      <th>always</th>\n",
       "      <th>an</th>\n",
       "      <th>and</th>\n",
       "      <th>at</th>\n",
       "      <th>be</th>\n",
       "      <th>because</th>\n",
       "      <th>but</th>\n",
       "      <th>...</th>\n",
       "      <th>you</th>\n",
       "      <th>your</th>\n",
       "      <th>youre</th>\n",
       "      <th>anger_e</th>\n",
       "      <th>fear_e</th>\n",
       "      <th>joy_e</th>\n",
       "      <th>love_e</th>\n",
       "      <th>sadness_e</th>\n",
       "      <th>surprise_e</th>\n",
       "      <th>label</th>\n",
       "    </tr>\n",
       "  </thead>\n",
       "  <tbody>\n",
       "    <tr>\n",
       "      <th>0</th>\n",
       "      <td>0.022628</td>\n",
       "      <td>0.091254</td>\n",
       "      <td>0.000000</td>\n",
       "      <td>0.027837</td>\n",
       "      <td>0.067843</td>\n",
       "      <td>0.264456</td>\n",
       "      <td>0.068314</td>\n",
       "      <td>0.374517</td>\n",
       "      <td>0.073364</td>\n",
       "      <td>0.000000</td>\n",
       "      <td>...</td>\n",
       "      <td>0.132503</td>\n",
       "      <td>0.184626</td>\n",
       "      <td>0.031418</td>\n",
       "      <td>0.135764</td>\n",
       "      <td>0.117830</td>\n",
       "      <td>0.323762</td>\n",
       "      <td>0.081149</td>\n",
       "      <td>0.303030</td>\n",
       "      <td>0.038466</td>\n",
       "      <td>INFJ</td>\n",
       "    </tr>\n",
       "    <tr>\n",
       "      <th>1</th>\n",
       "      <td>0.020793</td>\n",
       "      <td>0.031446</td>\n",
       "      <td>0.037442</td>\n",
       "      <td>0.025580</td>\n",
       "      <td>0.093516</td>\n",
       "      <td>0.334151</td>\n",
       "      <td>0.031388</td>\n",
       "      <td>0.394769</td>\n",
       "      <td>0.033708</td>\n",
       "      <td>0.040718</td>\n",
       "      <td>...</td>\n",
       "      <td>0.223230</td>\n",
       "      <td>0.053019</td>\n",
       "      <td>0.057743</td>\n",
       "      <td>0.138154</td>\n",
       "      <td>0.115532</td>\n",
       "      <td>0.322613</td>\n",
       "      <td>0.088840</td>\n",
       "      <td>0.297431</td>\n",
       "      <td>0.037430</td>\n",
       "      <td>ENTP</td>\n",
       "    </tr>\n",
       "    <tr>\n",
       "      <th>2</th>\n",
       "      <td>0.058417</td>\n",
       "      <td>0.014724</td>\n",
       "      <td>0.000000</td>\n",
       "      <td>0.053899</td>\n",
       "      <td>0.072980</td>\n",
       "      <td>0.256030</td>\n",
       "      <td>0.044092</td>\n",
       "      <td>0.455007</td>\n",
       "      <td>0.047351</td>\n",
       "      <td>0.071498</td>\n",
       "      <td>...</td>\n",
       "      <td>0.185295</td>\n",
       "      <td>0.104267</td>\n",
       "      <td>0.060834</td>\n",
       "      <td>0.129505</td>\n",
       "      <td>0.116293</td>\n",
       "      <td>0.352338</td>\n",
       "      <td>0.078601</td>\n",
       "      <td>0.282931</td>\n",
       "      <td>0.040332</td>\n",
       "      <td>INTP</td>\n",
       "    </tr>\n",
       "    <tr>\n",
       "      <th>3</th>\n",
       "      <td>0.062748</td>\n",
       "      <td>0.063264</td>\n",
       "      <td>0.050216</td>\n",
       "      <td>0.000000</td>\n",
       "      <td>0.031356</td>\n",
       "      <td>0.162968</td>\n",
       "      <td>0.010525</td>\n",
       "      <td>0.539645</td>\n",
       "      <td>0.045209</td>\n",
       "      <td>0.071678</td>\n",
       "      <td>...</td>\n",
       "      <td>0.173513</td>\n",
       "      <td>0.063998</td>\n",
       "      <td>0.087125</td>\n",
       "      <td>0.145261</td>\n",
       "      <td>0.123895</td>\n",
       "      <td>0.317924</td>\n",
       "      <td>0.076562</td>\n",
       "      <td>0.293479</td>\n",
       "      <td>0.042879</td>\n",
       "      <td>INTJ</td>\n",
       "    </tr>\n",
       "    <tr>\n",
       "      <th>4</th>\n",
       "      <td>0.031435</td>\n",
       "      <td>0.042258</td>\n",
       "      <td>0.012579</td>\n",
       "      <td>0.012891</td>\n",
       "      <td>0.031417</td>\n",
       "      <td>0.214315</td>\n",
       "      <td>0.021090</td>\n",
       "      <td>0.683529</td>\n",
       "      <td>0.045298</td>\n",
       "      <td>0.061558</td>\n",
       "      <td>...</td>\n",
       "      <td>0.163626</td>\n",
       "      <td>0.021374</td>\n",
       "      <td>0.014549</td>\n",
       "      <td>0.141940</td>\n",
       "      <td>0.126254</td>\n",
       "      <td>0.327624</td>\n",
       "      <td>0.075333</td>\n",
       "      <td>0.290540</td>\n",
       "      <td>0.038309</td>\n",
       "      <td>ENTJ</td>\n",
       "    </tr>\n",
       "  </tbody>\n",
       "</table>\n",
       "<p>5 rows × 107 columns</p>\n",
       "</div>"
      ],
      "text/plain": [
       "      about       all      also    always        an       and        at  \\\n",
       "0  0.022628  0.091254  0.000000  0.027837  0.067843  0.264456  0.068314   \n",
       "1  0.020793  0.031446  0.037442  0.025580  0.093516  0.334151  0.031388   \n",
       "2  0.058417  0.014724  0.000000  0.053899  0.072980  0.256030  0.044092   \n",
       "3  0.062748  0.063264  0.050216  0.000000  0.031356  0.162968  0.010525   \n",
       "4  0.031435  0.042258  0.012579  0.012891  0.031417  0.214315  0.021090   \n",
       "\n",
       "         be   because       but  ...       you      your     youre   anger_e  \\\n",
       "0  0.374517  0.073364  0.000000  ...  0.132503  0.184626  0.031418  0.135764   \n",
       "1  0.394769  0.033708  0.040718  ...  0.223230  0.053019  0.057743  0.138154   \n",
       "2  0.455007  0.047351  0.071498  ...  0.185295  0.104267  0.060834  0.129505   \n",
       "3  0.539645  0.045209  0.071678  ...  0.173513  0.063998  0.087125  0.145261   \n",
       "4  0.683529  0.045298  0.061558  ...  0.163626  0.021374  0.014549  0.141940   \n",
       "\n",
       "     fear_e     joy_e    love_e  sadness_e  surprise_e  label  \n",
       "0  0.117830  0.323762  0.081149   0.303030    0.038466   INFJ  \n",
       "1  0.115532  0.322613  0.088840   0.297431    0.037430   ENTP  \n",
       "2  0.116293  0.352338  0.078601   0.282931    0.040332   INTP  \n",
       "3  0.123895  0.317924  0.076562   0.293479    0.042879   INTJ  \n",
       "4  0.126254  0.327624  0.075333   0.290540    0.038309   ENTJ  \n",
       "\n",
       "[5 rows x 107 columns]"
      ]
     },
     "execution_count": 139,
     "metadata": {},
     "output_type": "execute_result"
    }
   ],
   "source": [
    "# Removing binaries and replacing labels\n",
    "df.drop(['i_e', 'n_s', 'f_t', 'j_p'], axis = 1, inplace = True)\n",
    "df = pd.concat([df, type_labels], axis = 1)\n",
    "df.head()"
   ]
  },
  {
   "cell_type": "raw",
   "id": "8da79c7a",
   "metadata": {},
   "source": [
    "from sklearn.pipeline import Pipeline\n",
    "from sklearn.base import BaseEstimator, TransformerMixin\n",
    "\n",
    "class ConcatenatedType(BaseEstimator, TransformerMixin):\n",
    "    def __init__(self, models):\n",
    "        self.models = models\n",
    "        \n",
    "    def fit(self, X, y = None):\n",
    "        return self\n",
    "    \n",
    "    def transform(self, X):\n",
    "        predictions = [str(model.predict(X)[0]) for model in self.models]\n",
    "        return ' '.join(predictions)\n",
    "\n",
    "pipeline = Pipeline([\n",
    "    ('model_concatenator',\n",
    "     ConcatenatedType(models = [model_dim0, model_dim1, model_dim2, model_dim3]))\n",
    "])"
   ]
  },
  {
   "cell_type": "code",
   "execution_count": 172,
   "id": "6e9e9856",
   "metadata": {},
   "outputs": [],
   "source": [
    "all_models = [model_dim0, model_dim1, model_dim2, model_dim3]"
   ]
  },
  {
   "cell_type": "code",
   "execution_count": 189,
   "id": "77003909",
   "metadata": {},
   "outputs": [
    {
     "name": "stdout",
     "output_type": "stream",
     "text": [
      "Test: ENTJ INTP\n"
     ]
    },
    {
     "name": "stderr",
     "output_type": "stream",
     "text": [
      "/Users/ali/anaconda3/lib/python3.10/site-packages/sklearn/base.py:420: UserWarning: X does not have valid feature names, but MLPClassifier was fitted with feature names\n",
      "  warnings.warn(\n",
      "/Users/ali/anaconda3/lib/python3.10/site-packages/sklearn/base.py:420: UserWarning: X does not have valid feature names, but MLPClassifier was fitted with feature names\n",
      "  warnings.warn(\n",
      "/Users/ali/anaconda3/lib/python3.10/site-packages/sklearn/base.py:420: UserWarning: X does not have valid feature names, but MLPClassifier was fitted with feature names\n",
      "  warnings.warn(\n",
      "/Users/ali/anaconda3/lib/python3.10/site-packages/sklearn/base.py:420: UserWarning: X does not have valid feature names, but MLPClassifier was fitted with feature names\n",
      "  warnings.warn(\n"
     ]
    }
   ],
   "source": [
    "def predict_mbti(input_data):\n",
    "    if isinstance(input_data, pd.Series):\n",
    "        input_data = input_data.values.reshape(1, -1)\n",
    "    else: pass\n",
    "    \n",
    "    predicted_dims = [model.predict(input_data) for model in all_models]\n",
    "    predicted_type = ''.join(np.concatenate(predicted_dims))\n",
    "    return predicted_type\n",
    "\n",
    "print('Test:', predict_mbti(X.iloc[2]), df.label[2])"
   ]
  },
  {
   "cell_type": "code",
   "execution_count": 193,
   "id": "b0ee3760",
   "metadata": {},
   "outputs": [
    {
     "data": {
      "text/plain": [
       "pandas.core.series.Series"
      ]
     },
     "execution_count": 193,
     "metadata": {},
     "output_type": "execute_result"
    }
   ],
   "source": [
    "type(X.iloc[0])"
   ]
  },
  {
   "cell_type": "code",
   "execution_count": 198,
   "id": "dd5f50b4",
   "metadata": {},
   "outputs": [],
   "source": [
    "import warnings\n",
    "warnings.filterwarnings(\"ignore\", message = \"X does not have valid feature names.*\")"
   ]
  },
  {
   "cell_type": "code",
   "execution_count": 201,
   "id": "eef73e4a",
   "metadata": {
    "scrolled": true
   },
   "outputs": [],
   "source": [
    "type_pred = []\n",
    "\n",
    "for index, sample in X.iloc[:500].iterrows():\n",
    "    pred = predict_mbti(sample)\n",
    "    type_pred.append(pred)\n",
    "    \n",
    "pred_array = np.array(type_pred)"
   ]
  },
  {
   "cell_type": "code",
   "execution_count": 204,
   "id": "fcf9183d",
   "metadata": {},
   "outputs": [
    {
     "name": "stderr",
     "output_type": "stream",
     "text": [
      "/Users/ali/anaconda3/lib/python3.10/site-packages/sklearn/metrics/_classification.py:2184: UserWarning: y_pred contains classes not in y_true\n",
      "  warnings.warn(\"y_pred contains classes not in y_true\")\n"
     ]
    },
    {
     "data": {
      "text/plain": [
       "0.26820804500877793"
      ]
     },
     "execution_count": 204,
     "metadata": {},
     "output_type": "execute_result"
    }
   ],
   "source": [
    "balanced_accuracy_score(type_labels[:500], pred_array)"
   ]
  },
  {
   "cell_type": "code",
   "execution_count": 214,
   "id": "2414936b",
   "metadata": {},
   "outputs": [],
   "source": [
    "class_names = np.unique(np.concatenate((type_labels[:500], pred_array))).tolist()"
   ]
  },
  {
   "cell_type": "code",
   "execution_count": 215,
   "id": "3cb49e53",
   "metadata": {},
   "outputs": [
    {
     "data": {
      "image/png": "[encoded data removed]",
      "text/plain": [
       "<Figure size 1500x1000 with 2 Axes>"
      ]
     },
     "metadata": {},
     "output_type": "display_data"
    }
   ],
   "source": [
    "cm = confusion_matrix(type_labels[:500], pred_array)\n",
    "\n",
    "plt.figure(figsize = (15,10))\n",
    "sns.heatmap(cm, annot = True, cmap = 'Blues', fmt = 'g',\n",
    "            xticklabels = class_names, yticklabels = class_names)\n",
    "plt.xlabel('Predicted')\n",
    "plt.ylabel('True')\n",
    "plt.title('Full model results on first 500 samples', fontsize = 20)\n",
    "plt.show()"
   ]
  },
  {
   "cell_type": "code",
   "execution_count": 217,
   "id": "0340ec8e",
   "metadata": {},
   "outputs": [
    {
     "data": {
      "text/plain": [
       "0.57765"
      ]
     },
     "execution_count": 217,
     "metadata": {},
     "output_type": "execute_result"
    }
   ],
   "source": [
    "np.mean([.5692, .5303, .6776, .5335])"
   ]
  },
  {
   "cell_type": "markdown",
   "id": "8286b1dc",
   "metadata": {},
   "source": [
    "The 4-model process is much less accurate (26.8%) than the single-model method, but taking the mean of the accuracies of each individual model within the process (57.8%) it is comparable to the single-model method (61.34%).\n",
    "\n",
    "So averaging out all 4 dimensions, the 4-model process will predict the correct single-letter indicator 58% of the time but only predict the full 4-letter type correctly 27% of the time. The single-model method will predict the full 4-letter type correctly 61% of the time.\n",
    "\n",
    "The tradeoff depends on the use case. My goal was to make a tool that could be applied to a large number of people, ie. an entire workforce, without the people necessarily receiving the results. The product would be used by upper management to assemble teams, divisions, taskforces, etc. within the workforce in order to facilitate efficient cooperation and a more/better collaborative work environment."
   ]
  }
 ],
 "metadata": {
  "kernelspec": {
   "display_name": "Python 3 (ipykernel)",
   "language": "python",
   "name": "python3"
  },
  "language_info": {
   "codemirror_mode": {
    "name": "ipython",
    "version": 3
   },
   "file_extension": ".py",
   "mimetype": "text/x-python",
   "name": "python",
   "nbconvert_exporter": "python",
   "pygments_lexer": "ipython3",
   "version": "3.10.9"
  }
 },
 "nbformat": 4,
 "nbformat_minor": 5
}
