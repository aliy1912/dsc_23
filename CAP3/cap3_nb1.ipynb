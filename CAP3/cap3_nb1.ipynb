{
 "cells": [
  {
   "cell_type": "code",
   "execution_count": 1,
   "id": "61be4fce",
   "metadata": {},
   "outputs": [
    {
     "name": "stderr",
     "output_type": "stream",
     "text": [
      "[nltk_data] Downloading package punkt to /Users/ali/nltk_data...\n",
      "[nltk_data]   Package punkt is already up-to-date!\n",
      "[nltk_data] Downloading package stopwords to /Users/ali/nltk_data...\n",
      "[nltk_data]   Package stopwords is already up-to-date!\n"
     ]
    }
   ],
   "source": [
    "# Imports - collect all and move here\n",
    "import numpy as np\n",
    "import pandas as pd\n",
    "import matplotlib.pyplot as plt\n",
    "import warnings\n",
    "warnings.filterwarnings('ignore')\n",
    "from collections import Counter\n",
    "import re\n",
    "import nltk\n",
    "nltk.download('punkt')\n",
    "from nltk.corpus import wordnet\n",
    "from nltk.corpus import stopwords\n",
    "from nltk.corpus import brown\n",
    "nltk.download('stopwords')\n",
    "nltk.download('words')\n",
    "words = set(nltk.corpus.words.words())\n",
    "nltk.download('averaged_perceptron_tagger')\n",
    "from nltk.stem import *\n",
    "from nltk.stem.snowball import SnowballStemmer\n",
    "nltk.download('wordnet')\n",
    "nltk.download('omw-1.4')\n",
    "from textblob import TextBlob\n",
    "from sklearn.feature_extraction.text import TfidfVectorizer\n",
    "from sklearn.feature_extraction.text import CountVectorizer\n",
    "from sklearn.model_selection import train_test_split\n",
    "from sklearn.linear_model import LogisticRegression\n",
    "from sklearn import metrics\n",
    "from sklearn.metrics import accuracy_score\n",
    "from sklearn.model_selection import RepeatedStratifiedKFold, GridSearchCV, RandomizedSearchCV"
   ]
  },
  {
   "cell_type": "raw",
   "id": "c01b68fa",
   "metadata": {},
   "source": [
    "from wordcloud import WordCloud, STOPWORDS, ImageColorGenerator\n",
    "# import wordcloud\n",
    "# ImportError: not valid for use in process: Trying to load an unsigned library\n",
    "!pip install --force-reinstall -v \"wordcloud == 1.9.2\""
   ]
  },
  {
   "cell_type": "markdown",
   "id": "9c59a342",
   "metadata": {},
   "source": [
    "# Loading data"
   ]
  },
  {
   "cell_type": "code",
   "execution_count": 2,
   "id": "05e8a03c",
   "metadata": {},
   "outputs": [],
   "source": [
    "data = pd.read_csv('mbti_1.csv')"
   ]
  },
  {
   "cell_type": "code",
   "execution_count": 5,
   "id": "d136fe93",
   "metadata": {},
   "outputs": [
    {
     "data": {
      "text/html": [
       "<div>\n",
       "<style scoped>\n",
       "    .dataframe tbody tr th:only-of-type {\n",
       "        vertical-align: middle;\n",
       "    }\n",
       "\n",
       "    .dataframe tbody tr th {\n",
       "        vertical-align: top;\n",
       "    }\n",
       "\n",
       "    .dataframe thead th {\n",
       "        text-align: right;\n",
       "    }\n",
       "</style>\n",
       "<table border=\"1\" class=\"dataframe\">\n",
       "  <thead>\n",
       "    <tr style=\"text-align: right;\">\n",
       "      <th></th>\n",
       "      <th>type</th>\n",
       "      <th>posts</th>\n",
       "    </tr>\n",
       "  </thead>\n",
       "  <tbody>\n",
       "    <tr>\n",
       "      <th>0</th>\n",
       "      <td>INFJ</td>\n",
       "      <td>'http://www.youtube.com/watch?v=qsXHcwe3krw|||http://41.media.tumblr.com/tumblr_lfouy03PMA1qa1rooo1_500.jpg|||enfp and intj moments  https://www.youtube.com/watch?v=iz7lE1g4XM4  sportscenter not top ten plays  https://www.youtube.com/watch?v=uCdfze1etec  pranks|||What has been the most life-changing experience in your life?|||http://www.youtube.com/watch?v=vXZeYwwRDw8   http://www.youtube.com/watch?v=u8ejam5DP3E  On repeat for most of today.|||May the PerC Experience immerse you.|||The last ...</td>\n",
       "    </tr>\n",
       "  </tbody>\n",
       "</table>\n",
       "</div>"
      ],
      "text/plain": [
       "   type  \\\n",
       "0  INFJ   \n",
       "\n",
       "                                                                                                                                                                                                                                                                                                                                                                                                                                                                                                                 posts  \n",
       "0  'http://www.youtube.com/watch?v=qsXHcwe3krw|||http://41.media.tumblr.com/tumblr_lfouy03PMA1qa1rooo1_500.jpg|||enfp and intj moments  https://www.youtube.com/watch?v=iz7lE1g4XM4  sportscenter not top ten plays  https://www.youtube.com/watch?v=uCdfze1etec  pranks|||What has been the most life-changing experience in your life?|||http://www.youtube.com/watch?v=vXZeYwwRDw8   http://www.youtube.com/watch?v=u8ejam5DP3E  On repeat for most of today.|||May the PerC Experience immerse you.|||The last ...  "
      ]
     },
     "execution_count": 5,
     "metadata": {},
     "output_type": "execute_result"
    }
   ],
   "source": [
    "pd.set_option('display.max_colwidth', 500)\n",
    "data.head(1)"
   ]
  },
  {
   "cell_type": "code",
   "execution_count": 6,
   "id": "f51a842d",
   "metadata": {},
   "outputs": [
    {
     "data": {
      "text/plain": [
       "(8675, 2)"
      ]
     },
     "execution_count": 6,
     "metadata": {},
     "output_type": "execute_result"
    }
   ],
   "source": [
    "data.shape"
   ]
  },
  {
   "cell_type": "code",
   "execution_count": 7,
   "id": "6331de02",
   "metadata": {},
   "outputs": [
    {
     "data": {
      "text/plain": [
       "<Axes: title={'center': 'Type distribution in data'}, ylabel='type'>"
      ]
     },
     "execution_count": 7,
     "metadata": {},
     "output_type": "execute_result"
    },
    {
     "data": {
      "image/png": "[encoded data removed]",
      "text/plain": [
       "<Figure size 640x480 with 1 Axes>"
      ]
     },
     "metadata": {},
     "output_type": "display_data"
    }
   ],
   "source": [
    "# All 16 types are represented but imbalanced\n",
    "data['type'].value_counts(ascending = True).plot(kind='barh',\n",
    "                                                 title = 'Type distribution in data')"
   ]
  },
  {
   "cell_type": "code",
   "execution_count": null,
   "id": "82980d6c",
   "metadata": {},
   "outputs": [],
   "source": [
    "data.iloc[3559] # Found later"
   ]
  },
  {
   "cell_type": "markdown",
   "id": "da50622f",
   "metadata": {},
   "source": [
    "# Test sample - cleaning + topic modeling"
   ]
  },
  {
   "cell_type": "code",
   "execution_count": null,
   "id": "8f062042",
   "metadata": {},
   "outputs": [],
   "source": [
    "# Keyword extraction\n",
    "vectorizer = TfidfVectorizer()"
   ]
  },
  {
   "cell_type": "code",
   "execution_count": 10,
   "id": "b868271e",
   "metadata": {},
   "outputs": [],
   "source": [
    "# Def function for removing ||| delimiters\n",
    "def remove_delimiters(delimiters, s):\n",
    "    new_s = s\n",
    "    for i in delimiters:\n",
    "        new_s = new_s.replace(i, ' ')\n",
    "    return ' '.join(new_s.split())"
   ]
  },
  {
   "cell_type": "code",
   "execution_count": 13,
   "id": "7de375f3",
   "metadata": {},
   "outputs": [],
   "source": [
    "# Expressions to drop\n",
    "regex_todrop = ['[.+]','[(+]','[+)]','[+/+]','[:+:]','[+?]','[+/+]','[+~]','[+,+]',\n",
    "                \"[+'+]\",'[+-+]','[_]']\n",
    "\n",
    "# NOTE : need to add _ to regex_todrop"
   ]
  },
  {
   "cell_type": "code",
   "execution_count": null,
   "id": "82c46416",
   "metadata": {
    "scrolled": true
   },
   "outputs": [],
   "source": [
    "# Testing on 1 post\n",
    "test_post = data.posts[0].lower()\n",
    "\n",
    "test_post = remove_delimiters('|||', test_post)\n",
    "\n",
    "# Dropping numbers - don't appear to have meaning and might mess up modeling later\n",
    "test_post = ''.join([i for i in test_post if not i.isdigit()])\n",
    "\n",
    "# First dropping URLs\n",
    "text = re.sub(r\"\\S*https?:\\S*\", \"\", test_post) # Dropping URLs\n",
    "\n",
    "# Drop regex\n",
    "for r in regex_todrop:\n",
    "    text = re.sub(r, \"\", text)\n",
    "\n",
    "# Quick check on first 800 characters\n",
    "text[:800]"
   ]
  },
  {
   "cell_type": "code",
   "execution_count": null,
   "id": "24c4ae53",
   "metadata": {
    "scrolled": true
   },
   "outputs": [],
   "source": [
    "# Topic modelling\n",
    "tokens = nltk.word_tokenize(text)\n",
    "tkns = [w for w in tokens if len(w) >= 4]\n",
    "\n",
    "tags = nltk.pos_tag(tkns)\n",
    "nouns = [word for (word, tag) in tags if tag == 'NN']\n",
    "\n",
    "tfidf = vectorizer.fit_transform(tkns)\n",
    "\n",
    "sample1 = sorted(vectorizer.vocabulary_,\n",
    "                 key = lambda x: tfidf[0, vectorizer.vocabulary_[x]],\n",
    "                 reverse = True)\n",
    "print(sample1[:10])"
   ]
  },
  {
   "cell_type": "markdown",
   "id": "4e0046b9",
   "metadata": {},
   "source": [
    "# Cleaning"
   ]
  },
  {
   "cell_type": "code",
   "execution_count": 8,
   "id": "ca29ca06",
   "metadata": {},
   "outputs": [],
   "source": [
    "# Joining all text data for cleaning\n",
    "all_posts = ' '.join(data.posts)"
   ]
  },
  {
   "cell_type": "code",
   "execution_count": 30,
   "id": "cfe40d8f",
   "metadata": {},
   "outputs": [],
   "source": [
    "# Dropping URLs, delimiters, numbers\n",
    "all_posts_cln = re.sub(r\"\\S*https?:\\S*\", \"\", all_posts)\n",
    "all_posts_cln = re.sub(r'http\\S+', \"\", all_posts_cln)\n",
    "all_posts_cln = remove_delimiters('|||', all_posts_cln)\n",
    "all_posts_cln = ''.join([i for i in all_posts_cln if not i.isdigit()])"
   ]
  },
  {
   "cell_type": "code",
   "execution_count": 31,
   "id": "68baa770",
   "metadata": {},
   "outputs": [
    {
     "data": {
      "text/plain": [
       "'thing about peer pressure banned for a whole host of two baby deer on left and right munching on a beetle in the middle  using their own blood two cavemen diary todays latest happenings on their designated cave diary wall  i see it as a pokemon world an infj society everyone becomes an all artists are artists because they draw its the idea that counts in forming something of your own like a signature welcome to the robot ranks person who downed my self-esteem cuz im not an avid signature artist '"
      ]
     },
     "execution_count": 31,
     "metadata": {},
     "output_type": "execute_result"
    }
   ],
   "source": [
    "# Dropping regex\n",
    "all_text_cln = all_posts_cln\n",
    "\n",
    "for r in regex_todrop:\n",
    "    all_text_cln = re.sub(r, \"\", all_text_cln)\n",
    "\n",
    "# Correcting case\n",
    "all_text_cln = all_text_cln.lower()\n",
    "\n",
    "# Quick check\n",
    "all_text_cln[2000:2500]"
   ]
  },
  {
   "cell_type": "markdown",
   "id": "8c7227ef",
   "metadata": {},
   "source": [
    "# EDA"
   ]
  },
  {
   "cell_type": "markdown",
   "id": "4269f84b",
   "metadata": {},
   "source": [
    "# Topic modeling"
   ]
  },
  {
   "cell_type": "code",
   "execution_count": null,
   "id": "cf63edbb",
   "metadata": {},
   "outputs": [],
   "source": [
    "tokens = nltk.word_tokenize(clean_text_all) # full text\n",
    "\n",
    "# Filtering for nouns\n",
    "tags = nltk.pos_tag(tokens)\n",
    "nouns = [word for (word, tag) in tags if tag == 'NN']\n",
    "\n",
    "# Fit Tfidf to nouns only for topic modeling\n",
    "tfidf = vectorizer.fit_transform(nouns)\n",
    "\n",
    "all_nouns = sorted(vectorizer.vocabulary_,\n",
    "                   key = lambda x: tfidf[0, vectorizer.vocabulary_[x]],\n",
    "                   reverse = True)"
   ]
  },
  {
   "cell_type": "code",
   "execution_count": null,
   "id": "a8aed92a",
   "metadata": {},
   "outputs": [],
   "source": [
    "uniq_nouns = Counter(all_nouns_filt).keys() # dict_keys\n",
    "\n",
    "print(len(all_nouns), len(uniq_nouns))"
   ]
  },
  {
   "cell_type": "code",
   "execution_count": 36,
   "id": "858045ab",
   "metadata": {
    "scrolled": true
   },
   "outputs": [],
   "source": [
    "# For removing stopwords\n",
    "stop_words = set(stopwords.words('english'))"
   ]
  },
  {
   "cell_type": "code",
   "execution_count": null,
   "id": "70520c9a",
   "metadata": {},
   "outputs": [],
   "source": [
    "top_100 = [n for n in all_nouns if len(n) >= 4][:200]\n",
    "top_100 = [w for w in top_100 if w.lower() not in stop_words]\n",
    "print(top_100)"
   ]
  },
  {
   "cell_type": "code",
   "execution_count": null,
   "id": "817177e6",
   "metadata": {},
   "outputs": [],
   "source": [
    "posts_100 = list(data.posts[:1100])"
   ]
  },
  {
   "cell_type": "code",
   "execution_count": null,
   "id": "3d2d4771",
   "metadata": {},
   "outputs": [],
   "source": [
    "topic_freq = {}\n",
    "\n",
    "for topic in top_100[:20]:\n",
    "    topic_freq.setdefault(topic, 0)"
   ]
  },
  {
   "cell_type": "code",
   "execution_count": null,
   "id": "40ce0ccd",
   "metadata": {},
   "outputs": [],
   "source": [
    "for post in posts_100:\n",
    "    for topic in topic_freq.keys():\n",
    "        if topic in post:\n",
    "            topic_freq[topic] += 1\n",
    "        else: pass"
   ]
  },
  {
   "cell_type": "code",
   "execution_count": null,
   "id": "4b688574",
   "metadata": {},
   "outputs": [],
   "source": [
    "topic_freq"
   ]
  },
  {
   "cell_type": "code",
   "execution_count": null,
   "id": "bdfeebef",
   "metadata": {},
   "outputs": [],
   "source": [
    "plt.style.use('seaborn-v0_8')\n",
    "\n",
    "topics_df = pd.Series(topic_freq).to_frame()\n",
    "topics_df.columns = ['count']\n",
    "topics_df = topics_df.sort_values(by = 'count', ascending = True)\n",
    "\n",
    "topics_df.plot.barh(figsize = (8,6), title = 'Most frequent topics in first 100 posts',\n",
    "                    xlabel = 'Count', fontsize = 10, legend = False);"
   ]
  },
  {
   "cell_type": "code",
   "execution_count": null,
   "id": "149a73e9",
   "metadata": {},
   "outputs": [],
   "source": [
    "# Drop MBTI keywords\n",
    "mbtis = ['intp','istp','entp','enfp','isfp','infp','intj','infj',\n",
    "           'estj','entj','esfj','enfj','istj','isfj','estp','esfp',\n",
    "           'infjs','intps','extj']\n",
    "top_100_nombti = top_100\n",
    "\n",
    "for t in mbtis:\n",
    "    try:\n",
    "        top_100_nombti.remove(t)\n",
    "    except: pass\n",
    "    \n",
    "print(top_100_nombti)"
   ]
  },
  {
   "cell_type": "code",
   "execution_count": null,
   "id": "3f9f9f88",
   "metadata": {},
   "outputs": [],
   "source": [
    "topic_freq_2 = {}\n",
    "\n",
    "for topic in top_100_nombti[:20]:\n",
    "    topic_freq_2.setdefault(topic, 0)\n",
    "    \n",
    "for post in posts_100:\n",
    "    for topic in topic_freq_2.keys():\n",
    "        if topic in post:\n",
    "            topic_freq_2[topic] += 1\n",
    "        else: pass\n",
    "\n",
    "topics_df = pd.Series(topic_freq_2).to_frame()\n",
    "topics_df.columns = ['count']\n",
    "topics_df = topics_df.sort_values(by = 'count', ascending = True)\n",
    "\n",
    "topics_df.plot.barh(figsize = (8,6), title = 'Most frequent topics in first 100 posts, MBTI mentions removed',\n",
    "                    xlabel = 'Count', fontsize = 10, legend = False);"
   ]
  },
  {
   "cell_type": "markdown",
   "id": "97985464",
   "metadata": {},
   "source": [
    "# Wordcloud"
   ]
  },
  {
   "cell_type": "raw",
   "id": "b7139fff",
   "metadata": {},
   "source": [
    "wc = WordCloud().generate(' '.join(data.posts))\n",
    "plt.figure(figsize = (8,8))\n",
    "plt.imshow(vis, interpolation = 'bilinear')\n",
    "plt.show();"
   ]
  },
  {
   "cell_type": "markdown",
   "id": "057d9bf1",
   "metadata": {},
   "source": [
    "# Topics by type"
   ]
  },
  {
   "cell_type": "code",
   "execution_count": null,
   "id": "0d53d083",
   "metadata": {},
   "outputs": [],
   "source": [
    "intp = data[data['type'] == 'INTP']\n",
    "istp = data[data['type'] == 'ISTP']\n",
    "entp = data[data['type'] == 'ENTP']\n",
    "enfp = data[data['type'] == 'ENFP']\n",
    "isfp = data[data['type'] == 'ISFP']\n",
    "infp = data[data['type'] == 'INFP']\n",
    "intj = data[data['type'] == 'INTJ']\n",
    "infj = data[data['type'] == 'INFJ']\n",
    "estj = data[data['type'] == 'ESTJ']\n",
    "entj = data[data['type'] == 'ENTJ']\n",
    "esfj = data[data['type'] == 'ESFJ']\n",
    "enfj = data[data['type'] == 'ENFJ']\n",
    "istj = data[data['type'] == 'ISTJ']\n",
    "isfj = data[data['type'] == 'ISFJ']\n",
    "estp = data[data['type'] == 'ESTP']\n",
    "esfp = data[data['type'] == 'ESFP']\n",
    "\n",
    "posts_bytype = [intp, istp, entp, enfp, isfp, infp, intj, infj,\n",
    "                estj, entj, esfj, enfj, istj, isfj, estp, esfp]\n",
    "lengths = []\n",
    "\n",
    "for t in posts_bytype:\n",
    "    lengths.append(len(t))\n",
    "    \n",
    "post_counts_bytype = {to_drop[i]: lengths[i] for i in range(len(lengths))}\n",
    "post_counts_bytype"
   ]
  },
  {
   "cell_type": "code",
   "execution_count": null,
   "id": "4d7d3829",
   "metadata": {},
   "outputs": [],
   "source": [
    "def clean_txt(posts):\n",
    "    txt = ' '.join(posts)\n",
    "    txt = re.sub(r\"\\S*https:\\S*\", \"\", txt)\n",
    "    txt = re.sub(r\"\\S*http:\\S*\", \"\", txt) # Fixed, not run\n",
    "    txt = remove_delimiters('|||', txt)\n",
    "    txt = ''.join([i for i in txt if not i.isdigit()])\n",
    "    for r in regex_todrop:\n",
    "        txt = re.sub(r, \"\", txt)\n",
    "    return txt\n",
    "\n",
    "def get_topics(txt):\n",
    "    tokens = nltk.word_tokenize(txt)\n",
    "    tags = nltk.pos_tag(tokens)\n",
    "    nouns = [word for (word, tag) in tags if tag == 'NN']\n",
    "    tfidf = vectorizer.fit_transform(nouns)\n",
    "    all_nouns = sorted(vectorizer.vocabulary_,\n",
    "                       key = lambda x: tfidf[0, vectorizer.vocabulary_[x]],\n",
    "                       reverse = True)\n",
    "    # uniq_nouns = Counter(all_nouns.keys())\n",
    "    topics = [n for n in all_nouns if len(n) >= 4][:200]\n",
    "    topics = [w for w in topics if w.lower() not in stop_words] \n",
    "    topics = [w for w in topics if w in words]\n",
    "    return topics\n",
    "\n",
    "def plot_topics(topics_list, posts_list, title):\n",
    "    topic_freq = {}\n",
    "    for topic in topics_list[:15]:\n",
    "        topic_freq.setdefault(topic, 0)\n",
    "    for post in posts_list:\n",
    "        for topic in topic_freq.keys():\n",
    "            if topic in post:\n",
    "                topic_freq[topic] += 1\n",
    "            else: pass\n",
    "    topics_df = pd.Series(topic_freq).to_frame()\n",
    "    topics_df.columns = ['count']\n",
    "    topics_df = topics_df.sort_values(by = 'count', ascending = True)\n",
    "    topics_df.plot.barh(figsize = (8,5), title = title,\n",
    "                        xlabel = 'Count', fontsize = 10, legend = False);"
   ]
  },
  {
   "cell_type": "code",
   "execution_count": null,
   "id": "ef67b78c",
   "metadata": {
    "scrolled": true
   },
   "outputs": [],
   "source": [
    "def clean_get_plot_topics(posts, title):\n",
    "    txt = clean_txt(posts)\n",
    "    topics = get_topics(txt)\n",
    "    plot_topics(topics, posts, title)\n",
    "    \n",
    "clean_get_plot_topics(infp.posts[:100], 'INFP topics')"
   ]
  },
  {
   "cell_type": "code",
   "execution_count": null,
   "id": "0b259c77",
   "metadata": {
    "scrolled": true
   },
   "outputs": [],
   "source": [
    "clean_get_plot_topics(infj.posts[:100], 'INFJ topics')"
   ]
  },
  {
   "cell_type": "code",
   "execution_count": null,
   "id": "c1ff6a46",
   "metadata": {
    "scrolled": true
   },
   "outputs": [],
   "source": [
    "clean_get_plot_topics(intp.posts[:100], 'INTP topics')"
   ]
  },
  {
   "cell_type": "code",
   "execution_count": null,
   "id": "52ec1652",
   "metadata": {
    "scrolled": true
   },
   "outputs": [],
   "source": [
    "clean_get_plot_topics(intj.posts, 'INTJ topics')"
   ]
  },
  {
   "cell_type": "code",
   "execution_count": null,
   "id": "3ea71334",
   "metadata": {
    "scrolled": true
   },
   "outputs": [],
   "source": [
    "clean_get_plot_topics(entp.posts[:100], 'ENTP topics')"
   ]
  },
  {
   "cell_type": "code",
   "execution_count": null,
   "id": "a5c268c0",
   "metadata": {
    "scrolled": true
   },
   "outputs": [],
   "source": [
    "clean_get_plot_topics(enfp.posts[:100], 'ENFP topics')"
   ]
  },
  {
   "cell_type": "code",
   "execution_count": null,
   "id": "6cd9b23e",
   "metadata": {
    "scrolled": true
   },
   "outputs": [],
   "source": [
    "clean_get_plot_topics(istp.posts[:100], 'ISTP topics')"
   ]
  },
  {
   "cell_type": "code",
   "execution_count": null,
   "id": "2e5b00e1",
   "metadata": {
    "scrolled": true
   },
   "outputs": [],
   "source": [
    "clean_get_plot_topics(isfp.posts[:100], 'ISFP topics')"
   ]
  },
  {
   "cell_type": "code",
   "execution_count": null,
   "id": "9bd92f1d",
   "metadata": {
    "scrolled": true
   },
   "outputs": [],
   "source": [
    "clean_get_plot_topics(entj.posts[:100], 'ENTJ topics')"
   ]
  },
  {
   "cell_type": "code",
   "execution_count": null,
   "id": "75dde01b",
   "metadata": {
    "scrolled": true
   },
   "outputs": [],
   "source": [
    "clean_get_plot_topics(istj.posts[:100], 'ISTJ topics')"
   ]
  },
  {
   "cell_type": "code",
   "execution_count": null,
   "id": "6558de69",
   "metadata": {
    "scrolled": true
   },
   "outputs": [],
   "source": [
    "clean_get_plot_topics(enfj.posts, 'ENFJ topics')"
   ]
  },
  {
   "cell_type": "code",
   "execution_count": null,
   "id": "b7030918",
   "metadata": {
    "scrolled": true
   },
   "outputs": [],
   "source": [
    "clean_get_plot_topics(isfj.posts, 'ISFJ topics')"
   ]
  },
  {
   "cell_type": "code",
   "execution_count": null,
   "id": "c5f427d9",
   "metadata": {
    "scrolled": true
   },
   "outputs": [],
   "source": [
    "clean_get_plot_topics(estp.posts, 'ESTP topics')"
   ]
  },
  {
   "cell_type": "code",
   "execution_count": null,
   "id": "0ddf3443",
   "metadata": {
    "scrolled": true
   },
   "outputs": [],
   "source": [
    "clean_get_plot_topics(esfp.posts, 'ESFP topics')"
   ]
  },
  {
   "cell_type": "code",
   "execution_count": null,
   "id": "d1954ef3",
   "metadata": {
    "scrolled": true
   },
   "outputs": [],
   "source": [
    "clean_get_plot_topics(esfj.posts, 'ESFJ topics')"
   ]
  },
  {
   "cell_type": "code",
   "execution_count": null,
   "id": "50dc765f",
   "metadata": {
    "scrolled": true
   },
   "outputs": [],
   "source": [
    "clean_get_plot_topics(estj.posts, 'ESTJ topics')"
   ]
  },
  {
   "cell_type": "code",
   "execution_count": null,
   "id": "4c340c85",
   "metadata": {
    "scrolled": true
   },
   "outputs": [],
   "source": [
    "# Compare extraverts and introverts\n",
    "e_posts = data[data['type'].isin(['ENTP','ENFP','ENTJ','ENFJ','ESTP','ESFP','ESFJ','ESTJ'])]\n",
    "i_posts = data[data['type'].isin(['INFP','INFJ','INTP','INTJ','ISTP','ISFP','ISTJ','ISFJ'])]\n",
    "\n",
    "clean_get_plot_topics(e_posts.posts, 'Extravert topics')"
   ]
  },
  {
   "cell_type": "code",
   "execution_count": null,
   "id": "ecbe7352",
   "metadata": {
    "scrolled": true
   },
   "outputs": [],
   "source": [
    "clean_get_plot_topics(i_posts.posts, 'Introvert topics')"
   ]
  },
  {
   "cell_type": "code",
   "execution_count": null,
   "id": "2d26481d",
   "metadata": {
    "scrolled": true
   },
   "outputs": [],
   "source": [
    "# Compare 'feelers' and 'thinkers'\n",
    "f_posts = data[data['type'].isin(['INFP','INFJ','ENFP','ISFP','ENFJ','ISFJ','ESFP','ESFJ'])]\n",
    "t_posts = data[data['type'].isin(['INTP','INTJ','ENTP','ISTP','ENTJ','ISTJ','ESTP','ESTJ'])]\n",
    "               \n",
    "clean_get_plot_topics(f_posts.posts, 'Feeler topics')"
   ]
  },
  {
   "cell_type": "code",
   "execution_count": null,
   "id": "94f16548",
   "metadata": {
    "scrolled": true
   },
   "outputs": [],
   "source": [
    "clean_get_plot_topics(t_posts.posts, 'Thinker topics')"
   ]
  },
  {
   "cell_type": "code",
   "execution_count": null,
   "id": "4d6dadc6",
   "metadata": {
    "scrolled": true
   },
   "outputs": [],
   "source": [
    "# Compare 'sensors' and 'intuitives'\n",
    "s_posts = data[data['type'].isin(['ISTP','ISFP','ISTJ','ISFJ','ESTP','ESFP','ESFJ','ESTJ'])]\n",
    "n_posts = data[data['type'].isin(['INFP','INFJ','INTP','INTJ','ENTP','ENFP','ENTJ','ENFJ'])]\n",
    "\n",
    "clean_get_plot_topics(s_posts.posts, 'Sensor topics')"
   ]
  },
  {
   "cell_type": "code",
   "execution_count": null,
   "id": "1c9d626b",
   "metadata": {
    "scrolled": true
   },
   "outputs": [],
   "source": [
    "clean_get_plot_topics(n_posts.posts, 'Intuitive topics')"
   ]
  },
  {
   "cell_type": "markdown",
   "id": "b7d55dc6",
   "metadata": {},
   "source": [
    "# Preprocessing"
   ]
  },
  {
   "cell_type": "code",
   "execution_count": null,
   "id": "a51973df",
   "metadata": {
    "scrolled": false
   },
   "outputs": [],
   "source": [
    "def clean_post(post):\n",
    "    txt = post.lower()\n",
    "    txt = re.sub(r\"\\S*https:\\S*\", \"\", txt)\n",
    "    txt = re.sub(r\"\\S*http:\\S*\", \"\", txt)\n",
    "    txt = remove_delimiters('|||', txt)\n",
    "    txt = ''.join([i for i in txt if not i.isdigit()])\n",
    "    for r in regex_todrop:\n",
    "        txt = re.sub(r, \"\", txt)\n",
    "    return txt\n",
    "\n",
    "# data_pretest = data\n",
    "# data_pretest.posts[0].lower()\n",
    "\n",
    "for i in range(len(data.index)):\n",
    "    post = data.posts[i]\n",
    "    clean = clean_post(post)\n",
    "    data.posts[i] = clean"
   ]
  },
  {
   "cell_type": "code",
   "execution_count": null,
   "id": "003a299b",
   "metadata": {},
   "outputs": [],
   "source": [
    "data['tokenized'] = ''\n",
    "\n",
    "for i in range(len(data_pretest.index)):\n",
    "    post = data.posts[i]\n",
    "    tokens = nltk.word_tokenize(post)\n",
    "    tokens = [w for w in tokens if w not in stop_words]\n",
    "    tokens = [w for w in tokens if w in words]\n",
    "    data['tokenized'][i] = tokens"
   ]
  },
  {
   "cell_type": "code",
   "execution_count": null,
   "id": "7fb6001e",
   "metadata": {
    "scrolled": true
   },
   "outputs": [],
   "source": [
    "for i in range(len(data.index)):\n",
    "    sample = data.tokenized[i]\n",
    "    clean = [w for w in sample if len(w) >= 3]\n",
    "    data['tokenized'][i] = clean\n",
    "    \n",
    "print(data.tokenized[22])"
   ]
  },
  {
   "cell_type": "code",
   "execution_count": null,
   "id": "4fa4d634",
   "metadata": {},
   "outputs": [],
   "source": [
    "stemmer = SnowballStemmer('english')\n",
    "data['stems'] = ''\n",
    "\n",
    "for i in range(len(data.index)):\n",
    "    sample = data.tokenized[i]\n",
    "    data['stems'][i] = [stemmer.stem(w) for w in sample]"
   ]
  },
  {
   "cell_type": "code",
   "execution_count": null,
   "id": "78af2eb1",
   "metadata": {
    "scrolled": true
   },
   "outputs": [],
   "source": [
    "print(data.stems[22])"
   ]
  },
  {
   "cell_type": "code",
   "execution_count": null,
   "id": "190f8599",
   "metadata": {
    "scrolled": true
   },
   "outputs": [],
   "source": [
    "data['lemmas'] = ''\n",
    "\n",
    "for i in range(len(data.index)):\n",
    "    sample = data.tokenized[i]\n",
    "    data['lemmas'][i] = [wn_lem.lemmatize(w) for w in sample]\n",
    "    \n",
    "print(data.lemmas[22])"
   ]
  },
  {
   "cell_type": "markdown",
   "id": "e4f80bb9",
   "metadata": {},
   "source": [
    "# Vectorizing"
   ]
  },
  {
   "cell_type": "code",
   "execution_count": null,
   "id": "a8fbf91c",
   "metadata": {},
   "outputs": [],
   "source": [
    "data['lemmatized'] = ''\n",
    "\n",
    "for i in range(len(data.index)):\n",
    "    data['lemmatized'][i] = ' '.join(data.lemmas[i])"
   ]
  },
  {
   "cell_type": "code",
   "execution_count": null,
   "id": "1fff514a",
   "metadata": {},
   "outputs": [],
   "source": [
    "# Define target\n",
    "X = data.lemmatized\n",
    "y = data.type\n",
    "\n",
    "# Train test split\n",
    "\n",
    "X_train, X_test, y_train, y_test = train_test_split(X, y, test_size = .2, random_state = 17)"
   ]
  },
  {
   "cell_type": "code",
   "execution_count": null,
   "id": "b73efaa6",
   "metadata": {},
   "outputs": [],
   "source": [
    "count_vector = vectorizer.transform(data.posts)\n",
    "\n",
    "bow = count_vector.toarray()\n",
    "bow = pd.DataFrame(bow, columns = vectorizer.get_feature_names_out())\n",
    "bow.head()"
   ]
  },
  {
   "cell_type": "raw",
   "id": "8ed81b6f",
   "metadata": {},
   "source": [
    "from sklearn.feature_extraction.text import CountVectorizer\n",
    "\n",
    "ngram_vect = CountVectorizer(ngram_range = (2,2))\n",
    "print(ngram_vect.fit_transform(data['posts']).shape)"
   ]
  },
  {
   "cell_type": "raw",
   "id": "d5a693ab",
   "metadata": {},
   "source": [
    "print(ngram_vect.get_params())"
   ]
  },
  {
   "cell_type": "raw",
   "id": "431ae4e0",
   "metadata": {},
   "source": [
    "tfidf_vect = TfidfVectorizer(analyzer = 'word')\n",
    "tfidf = tfidf_vect.fit_transform(list(data.lemmas))\n",
    "\n",
    "vectors = sorted(vectorizer.vocabulary_,\n",
    "                 key = lambda x: tfidf[0, vectorizer.vocabulary_[x]],\n",
    "                 reverse = True)\n",
    "print(vectors[:10])"
   ]
  },
  {
   "cell_type": "markdown",
   "id": "f4a44988",
   "metadata": {},
   "source": [
    "# Feature engineering"
   ]
  },
  {
   "cell_type": "code",
   "execution_count": null,
   "id": "77d6cd09",
   "metadata": {},
   "outputs": [],
   "source": [
    "# Feature engineering - polarity + subjectivity\n",
    "TextBlob(data.posts[0]).sentiment"
   ]
  },
  {
   "cell_type": "code",
   "execution_count": null,
   "id": "66055457",
   "metadata": {},
   "outputs": [],
   "source": [
    "data['polarity'] = ''\n",
    "data['subjectivity'] = ''\n",
    "\n",
    "for i in range(len(data.index)):\n",
    "    sentiment = TextBlob(data.posts[i]).sentiment\n",
    "    polarity = sentiment[0]\n",
    "    data['polarity'][i] = polarity\n",
    "    subjectivity = sentiment[1]\n",
    "    data['subjectivity'][i] = subjectivity"
   ]
  },
  {
   "cell_type": "code",
   "execution_count": null,
   "id": "3f24e3a9",
   "metadata": {},
   "outputs": [],
   "source": [
    "intp = data[data['type'] == 'INTP']\n",
    "istp = data[data['type'] == 'ISTP']\n",
    "entp = data[data['type'] == 'ENTP']\n",
    "enfp = data[data['type'] == 'ENFP']\n",
    "isfp = data[data['type'] == 'ISFP']\n",
    "infp = data[data['type'] == 'INFP']\n",
    "intj = data[data['type'] == 'INTJ']\n",
    "infj = data[data['type'] == 'INFJ']\n",
    "estj = data[data['type'] == 'ESTJ']\n",
    "entj = data[data['type'] == 'ENTJ']\n",
    "esfj = data[data['type'] == 'ESFJ']\n",
    "enfj = data[data['type'] == 'ENFJ']\n",
    "istj = data[data['type'] == 'ISTJ']\n",
    "isfj = data[data['type'] == 'ISFJ']\n",
    "estp = data[data['type'] == 'ESTP']\n",
    "esfp = data[data['type'] == 'ESFP']"
   ]
  },
  {
   "cell_type": "code",
   "execution_count": null,
   "id": "3f1e6207",
   "metadata": {},
   "outputs": [],
   "source": [
    "type_dfs_ls = [intp, istp, entp, enfp, isfp, infp, intj, infj,\n",
    "               estj, entj, esfj, enfj, istj, isfj, estp, esfp]"
   ]
  },
  {
   "cell_type": "code",
   "execution_count": null,
   "id": "2976b5f0",
   "metadata": {},
   "outputs": [],
   "source": [
    "data.head(3)"
   ]
  },
  {
   "cell_type": "code",
   "execution_count": null,
   "id": "fa862495",
   "metadata": {},
   "outputs": [],
   "source": [
    "mean_pol_by_type = data.groupby(by = 'type')['polarity'].agg('mean')\n",
    "mean_sentiment_by_type = pd.DataFrame(mean_pol_by_type)\n",
    "mean_sub_by_type = data.groupby(by = 'type')['subjectivity'].agg('mean')\n",
    "mean_sentiment_by_type['subjectivity'] = mean_sub_by_type\n",
    "mean_sentiment_by_type"
   ]
  },
  {
   "cell_type": "code",
   "execution_count": null,
   "id": "162f65b0",
   "metadata": {},
   "outputs": [],
   "source": [
    "mean_sentiment_by_type.sort_values(by = 'polarity', ascending = True, inplace = True)\n",
    "mean_sentiment_by_type['polarity'].plot(kind = 'barh', alpha = .5, color = 'green',\n",
    "                                        title = 'Polarity by type')"
   ]
  },
  {
   "cell_type": "code",
   "execution_count": null,
   "id": "46ec238e",
   "metadata": {},
   "outputs": [],
   "source": [
    "data.boxplot(column = 'polarity', by = 'type', showfliers = False, figsize = (12,8));"
   ]
  },
  {
   "cell_type": "raw",
   "id": "06a590d8",
   "metadata": {},
   "source": [
    "# count_unique = data_pretest.lemmas.value_counts()\n",
    "# data_pretest['count_unique'] = pd.Series(count_unique)\n",
    "data_pretest['count_unique'] = ''\n",
    "\n",
    "for i in range(len(data_pretest.index)):\n",
    "    unique = list(set(data_pretest.lemmas[i]))\n",
    "    data_pretest['count_unique'][i] = len(unique)\n",
    "    \n",
    "data_pretest.drop('count_unique', axis = 1, inplace = True)"
   ]
  },
  {
   "cell_type": "raw",
   "id": "031d2263",
   "metadata": {},
   "source": [
    "#for mbti in mbtis:\n",
    "#    mbti_type = data_pretest[data_pretest['type'] == mbti.upper()]\n",
    "\n",
    "data_pretest['max_length'] = ''\n",
    "\n",
    "for i in range(len(data_pretest.index)):\n",
    "    try:\n",
    "        sample = data_pretest.tokenized[i]\n",
    "        max_length = get_max_length(sample)\n",
    "        data_pretest['max_length'][i] = max_length\n",
    "    except: pass\n",
    "    \n",
    "data_pretest.head()"
   ]
  },
  {
   "cell_type": "raw",
   "id": "c6e94f4d",
   "metadata": {},
   "source": [
    "#data_pretest['max_length'] = data_pretest['max_length'].astype('int')\n",
    "#data_pretest.dtypes\n",
    "data_pretest.drop(labels = 3559, inplace = True)"
   ]
  },
  {
   "cell_type": "raw",
   "id": "513a2ba1",
   "metadata": {},
   "source": [
    "data_pretest.groupby('type')[['max_length']].max()"
   ]
  },
  {
   "cell_type": "code",
   "execution_count": null,
   "id": "dae9720d",
   "metadata": {},
   "outputs": [],
   "source": [
    "# Top words for each sample\n",
    "data.reset_index(inplace = True)\n",
    "data['top_words'] = ''\n",
    "\n",
    "for i in range(len(data.index)):\n",
    "    sample = data.posts[i]\n",
    "    topics = get_topics(sample)\n",
    "    data['top_words'][i] = topics[:10]\n",
    "    \n",
    "data.head()"
   ]
  },
  {
   "cell_type": "markdown",
   "id": "3c9ead12",
   "metadata": {},
   "source": [
    "- look up AllenNLP\n",
    "- try SpaCy or Polyglot pos tagging vs. nltk\n",
    "- look up sentence segmentation\n",
    "- look up Gensim for semantic search"
   ]
  },
  {
   "cell_type": "markdown",
   "id": "c3b5010b",
   "metadata": {},
   "source": [
    "# Modeling"
   ]
  },
  {
   "cell_type": "code",
   "execution_count": null,
   "id": "ffbbac96",
   "metadata": {},
   "outputs": [],
   "source": [
    "models = pd.DataFrame(index = ['Naive Bayes', 'Random Forest', 'Logistic Regression'],\n",
    "                      columns = ['min_df', 'params', 'roc_auc_score'])"
   ]
  },
  {
   "cell_type": "code",
   "execution_count": null,
   "id": "7ba356be",
   "metadata": {},
   "outputs": [],
   "source": [
    "for i in range(20):\n",
    "    vect = CountVectorizer(min_df = i)\n",
    "    X_train"
   ]
  }
 ],
 "metadata": {
  "kernelspec": {
   "display_name": "Python 3 (ipykernel)",
   "language": "python",
   "name": "python3"
  },
  "language_info": {
   "codemirror_mode": {
    "name": "ipython",
    "version": 3
   },
   "file_extension": ".py",
   "mimetype": "text/x-python",
   "name": "python",
   "nbconvert_exporter": "python",
   "pygments_lexer": "ipython3",
   "version": "3.10.9"
  }
 },
 "nbformat": 4,
 "nbformat_minor": 5
}
