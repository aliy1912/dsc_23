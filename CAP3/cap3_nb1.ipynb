{
 "cells": [
  {
   "cell_type": "code",
   "execution_count": 66,
   "id": "58c70cc8",
   "metadata": {},
   "outputs": [],
   "source": [
    "# Imports - collect all and move here\n",
    "import numpy as np\n",
    "import pandas as pd\n",
    "import matplotlib.pyplot as plt\n",
    "import warnings\n",
    "warnings.filterwarnings('ignore')"
   ]
  },
  {
   "cell_type": "markdown",
   "id": "bd32892b",
   "metadata": {},
   "source": [
    "# Loading data"
   ]
  },
  {
   "cell_type": "code",
   "execution_count": 115,
   "id": "d136fe93",
   "metadata": {},
   "outputs": [
    {
     "data": {
      "text/html": [
       "<div>\n",
       "<style scoped>\n",
       "    .dataframe tbody tr th:only-of-type {\n",
       "        vertical-align: middle;\n",
       "    }\n",
       "\n",
       "    .dataframe tbody tr th {\n",
       "        vertical-align: top;\n",
       "    }\n",
       "\n",
       "    .dataframe thead th {\n",
       "        text-align: right;\n",
       "    }\n",
       "</style>\n",
       "<table border=\"1\" class=\"dataframe\">\n",
       "  <thead>\n",
       "    <tr style=\"text-align: right;\">\n",
       "      <th></th>\n",
       "      <th>type</th>\n",
       "      <th>posts</th>\n",
       "    </tr>\n",
       "  </thead>\n",
       "  <tbody>\n",
       "    <tr>\n",
       "      <th>0</th>\n",
       "      <td>INFJ</td>\n",
       "      <td>'http://www.youtube.com/watch?v=qsXHcwe3krw|||http://41.media.tumblr.com/tumblr_lfouy03PMA1qa1rooo1_500.jpg|||enfp and intj moments  https://www.youtube.com/watch?v=iz7lE1g4XM4  sportscenter not top ten plays  https://www.youtube.com/watch?v=uCdfze1etec  pranks|||What has been the most life-changing experience in your life?|||http://www.youtube.com/watch?v=vXZeYwwRDw8   http://www.youtube.com/watch?v=u8ejam5DP3E  On repeat for most of today.|||May the PerC Experience immerse you.|||The last thing my INFJ friend posted on his facebook before committing suicide the next day. Rest in peace~   http://vimeo.com/22842206|||Hello ENFJ7. Sorry to hear of your distress. It's only natural for a relationship to not be perfection all the time in every moment of existence. Try to figure the hard times as times of growth, as...|||84389  84390  http://wallpaperpassion.com/upload/23700/friendship-boy-and-girl-wallpaper.jpg  http://assets.dornob.com/wp-content/uploads/2010/04/round-home-design.jpg ...|||Welcome and stuff.|||http://playeressence.com/wp-content/uploads/2013/08/RED-red-the-pokemon-master-32560474-450-338.jpg  Game. Set. Match.|||Prozac, wellbrutin, at least thirty minutes of moving your legs (and I don't mean moving them while sitting in your same desk chair), weed in moderation (maybe try edibles as a healthier alternative...|||Basically come up with three items you've determined that each type (or whichever types you want to do) would more than likely use, given each types' cognitive functions and whatnot, when left by...|||All things in moderation.  Sims is indeed a video game, and a good one at that. Note: a good one at that is somewhat subjective in that I am not completely promoting the death of any given Sim...|||Dear ENFP:  What were your favorite video games growing up and what are your now, current favorite video games? :cool:|||https://www.youtube.com/watch?v=QyPqT8umzmY|||It appears to be too late. :sad:|||There's someone out there for everyone.|||Wait... I thought confidence was a good thing.|||I just cherish the time of solitude b/c i revel within my inner world more whereas most other time i'd be workin... just enjoy the me time while you can. Don't worry, people will always be around to...|||Yo entp ladies... if you're into a complimentary personality,well, hey.|||... when your main social outlet is xbox live conversations and even then you verbally fatigue quickly.|||http://www.youtube.com/watch?v=gDhy7rdfm14  I really dig the part from 1:46 to 2:50|||http://www.youtube.com/watch?v=msqXffgh7b8|||Banned because this thread requires it of me.|||Get high in backyard, roast and eat marshmellows in backyard while conversing over something intellectual, followed by massages and kisses.|||http://www.youtube.com/watch?v=Mw7eoU3BMbE|||http://www.youtube.com/watch?v=4V2uYORhQOk|||http://www.youtube.com/watch?v=SlVmgFQQ0TI|||Banned for too many b's in that sentence. How could you! Think of the B!|||Banned for watching movies in the corner with the dunces.|||Banned because Health class clearly taught you nothing about peer pressure.|||Banned for a whole host of reasons!|||http://www.youtube.com/watch?v=IRcrv41hgz4|||1) Two baby deer on left and right munching on a beetle in the middle.  2) Using their own blood, two cavemen diary today's latest happenings on their designated cave diary wall.  3) I see it as...|||a pokemon world  an infj society  everyone becomes an optimist|||49142|||http://www.youtube.com/watch?v=ZRCEq_JFeFM|||http://discovermagazine.com/2012/jul-aug/20-things-you-didnt-know-about-deserts/desert.jpg|||http://oyster.ignimgs.com/mediawiki/apis.ign.com/pokemon-silver-version/d/dd/Ditto.gif|||http://www.serebii.net/potw-dp/Scizor.jpg|||Not all artists are artists because they draw. It's the idea that counts in forming something of your own... like a signature.|||Welcome to the robot ranks, person who downed my self-esteem cuz I'm not an avid signature artist like herself. :proud:|||Banned for taking all the room under my bed. Ya gotta learn to share with the roaches.|||http://www.youtube.com/watch?v=w8IgImn57aQ|||Banned for being too much of a thundering, grumbling kind of storm... yep.|||Ahh... old high school music I haven't heard in ages.   http://www.youtube.com/watch?v=dcCRUPCdB1w|||I failed a public speaking class a few years ago and I've sort of learned what I could do better were I to be in that position again. A big part of my failure was just overloading myself with too...|||I like this person's mentality. He's a confirmed INTJ by the way. http://www.youtube.com/watch?v=hGKLI-GEc6M|||Move to the Denver area and start a new life for myself.'</td>\n",
       "    </tr>\n",
       "  </tbody>\n",
       "</table>\n",
       "</div>"
      ],
      "text/plain": [
       "   type  \\\n",
       "0  INFJ   \n",
       "\n",
       "                                                                                                                                                                                                                                                                                                                                                                                                                                                                                                                                                                                                                                                                                                                                                                                                                                                                                                                                                                                                                                                                                                                                                                                                                                                                                                                                                                                                                                                                                                                                                                                                                                                                                                                                                                                                                                                                                                                                                                                                                                                                                                                                                                                                                                                                                                                                                                                                                                                                                                                                                                                                                                                                                                                                                                                                                                                                                                                                                                                                                                                                                                                                                                                                                                                                                                                                                                                                                                                                                                                                                                                                                                                                                                                                                                                                                                                                                                                                                                                                                                                                                                                                                                                                                                                                                                                                                                                                                                                                                                                                                                                                                                                                                                                                                                                                                                          posts  \n",
       "0  'http://www.youtube.com/watch?v=qsXHcwe3krw|||http://41.media.tumblr.com/tumblr_lfouy03PMA1qa1rooo1_500.jpg|||enfp and intj moments  https://www.youtube.com/watch?v=iz7lE1g4XM4  sportscenter not top ten plays  https://www.youtube.com/watch?v=uCdfze1etec  pranks|||What has been the most life-changing experience in your life?|||http://www.youtube.com/watch?v=vXZeYwwRDw8   http://www.youtube.com/watch?v=u8ejam5DP3E  On repeat for most of today.|||May the PerC Experience immerse you.|||The last thing my INFJ friend posted on his facebook before committing suicide the next day. Rest in peace~   http://vimeo.com/22842206|||Hello ENFJ7. Sorry to hear of your distress. It's only natural for a relationship to not be perfection all the time in every moment of existence. Try to figure the hard times as times of growth, as...|||84389  84390  http://wallpaperpassion.com/upload/23700/friendship-boy-and-girl-wallpaper.jpg  http://assets.dornob.com/wp-content/uploads/2010/04/round-home-design.jpg ...|||Welcome and stuff.|||http://playeressence.com/wp-content/uploads/2013/08/RED-red-the-pokemon-master-32560474-450-338.jpg  Game. Set. Match.|||Prozac, wellbrutin, at least thirty minutes of moving your legs (and I don't mean moving them while sitting in your same desk chair), weed in moderation (maybe try edibles as a healthier alternative...|||Basically come up with three items you've determined that each type (or whichever types you want to do) would more than likely use, given each types' cognitive functions and whatnot, when left by...|||All things in moderation.  Sims is indeed a video game, and a good one at that. Note: a good one at that is somewhat subjective in that I am not completely promoting the death of any given Sim...|||Dear ENFP:  What were your favorite video games growing up and what are your now, current favorite video games? :cool:|||https://www.youtube.com/watch?v=QyPqT8umzmY|||It appears to be too late. :sad:|||There's someone out there for everyone.|||Wait... I thought confidence was a good thing.|||I just cherish the time of solitude b/c i revel within my inner world more whereas most other time i'd be workin... just enjoy the me time while you can. Don't worry, people will always be around to...|||Yo entp ladies... if you're into a complimentary personality,well, hey.|||... when your main social outlet is xbox live conversations and even then you verbally fatigue quickly.|||http://www.youtube.com/watch?v=gDhy7rdfm14  I really dig the part from 1:46 to 2:50|||http://www.youtube.com/watch?v=msqXffgh7b8|||Banned because this thread requires it of me.|||Get high in backyard, roast and eat marshmellows in backyard while conversing over something intellectual, followed by massages and kisses.|||http://www.youtube.com/watch?v=Mw7eoU3BMbE|||http://www.youtube.com/watch?v=4V2uYORhQOk|||http://www.youtube.com/watch?v=SlVmgFQQ0TI|||Banned for too many b's in that sentence. How could you! Think of the B!|||Banned for watching movies in the corner with the dunces.|||Banned because Health class clearly taught you nothing about peer pressure.|||Banned for a whole host of reasons!|||http://www.youtube.com/watch?v=IRcrv41hgz4|||1) Two baby deer on left and right munching on a beetle in the middle.  2) Using their own blood, two cavemen diary today's latest happenings on their designated cave diary wall.  3) I see it as...|||a pokemon world  an infj society  everyone becomes an optimist|||49142|||http://www.youtube.com/watch?v=ZRCEq_JFeFM|||http://discovermagazine.com/2012/jul-aug/20-things-you-didnt-know-about-deserts/desert.jpg|||http://oyster.ignimgs.com/mediawiki/apis.ign.com/pokemon-silver-version/d/dd/Ditto.gif|||http://www.serebii.net/potw-dp/Scizor.jpg|||Not all artists are artists because they draw. It's the idea that counts in forming something of your own... like a signature.|||Welcome to the robot ranks, person who downed my self-esteem cuz I'm not an avid signature artist like herself. :proud:|||Banned for taking all the room under my bed. Ya gotta learn to share with the roaches.|||http://www.youtube.com/watch?v=w8IgImn57aQ|||Banned for being too much of a thundering, grumbling kind of storm... yep.|||Ahh... old high school music I haven't heard in ages.   http://www.youtube.com/watch?v=dcCRUPCdB1w|||I failed a public speaking class a few years ago and I've sort of learned what I could do better were I to be in that position again. A big part of my failure was just overloading myself with too...|||I like this person's mentality. He's a confirmed INTJ by the way. http://www.youtube.com/watch?v=hGKLI-GEc6M|||Move to the Denver area and start a new life for myself.'  "
      ]
     },
     "execution_count": 115,
     "metadata": {},
     "output_type": "execute_result"
    }
   ],
   "source": [
    "data = pd.read_csv('mbti_1.csv')\n",
    "pd.set_option('display.max_colwidth', None)\n",
    "data.head(1)"
   ]
  },
  {
   "cell_type": "code",
   "execution_count": 4,
   "id": "f51a842d",
   "metadata": {},
   "outputs": [
    {
     "data": {
      "text/plain": [
       "(8675, 2)"
      ]
     },
     "execution_count": 4,
     "metadata": {},
     "output_type": "execute_result"
    }
   ],
   "source": [
    "data.shape"
   ]
  },
  {
   "cell_type": "code",
   "execution_count": 5,
   "id": "6331de02",
   "metadata": {},
   "outputs": [
    {
     "data": {
      "text/plain": [
       "type\n",
       "INFP    1832\n",
       "INFJ    1470\n",
       "INTP    1304\n",
       "INTJ    1091\n",
       "ENTP     685\n",
       "ENFP     675\n",
       "ISTP     337\n",
       "ISFP     271\n",
       "ENTJ     231\n",
       "ISTJ     205\n",
       "ENFJ     190\n",
       "ISFJ     166\n",
       "ESTP      89\n",
       "ESFP      48\n",
       "ESFJ      42\n",
       "ESTJ      39\n",
       "Name: count, dtype: int64"
      ]
     },
     "execution_count": 5,
     "metadata": {},
     "output_type": "execute_result"
    }
   ],
   "source": [
    "data.type.value_counts() # All 16 types are represented but highly imbalanced"
   ]
  },
  {
   "cell_type": "markdown",
   "id": "28c07346",
   "metadata": {},
   "source": [
    "# Test sample - cleaning + topic modeling"
   ]
  },
  {
   "cell_type": "code",
   "execution_count": null,
   "id": "8f062042",
   "metadata": {},
   "outputs": [],
   "source": [
    "# Keyword extraction\n",
    "import nltk\n",
    "nltk.download('punkt')\n",
    "\n",
    "from sklearn.feature_extraction.text import TfidfVectorizer\n",
    "vectorizer = TfidfVectorizer()\n",
    "\n",
    "# Topic modeling - only for EDA and question generation\n",
    "nltk.download('averaged_perceptron_tagger')"
   ]
  },
  {
   "cell_type": "code",
   "execution_count": null,
   "id": "d87932f5",
   "metadata": {},
   "outputs": [],
   "source": [
    "# NOTE - need to add _ to regex_todrop"
   ]
  },
  {
   "cell_type": "code",
   "execution_count": 175,
   "id": "276c890e",
   "metadata": {
    "scrolled": true
   },
   "outputs": [
    {
     "data": {
      "text/plain": [
       "'  enfp and intj moments  sportscenter not top ten plays  pranks what has been the most life-changing experience in your life   on repeat for most of today may the perc experience immerse you the last thing my infj friend posted on his facebook before committing suicide the next day rest in peace  hello enfj sorry to hear of your distress its only natural for a relationship to not be perfection all the time in every moment of existence try to figure the hard times as times of growth as      welcome and stuff  game set match prozac wellbrutin at least thirty minutes of moving your legs and i dont mean moving them while sitting in your same desk chair weed in moderation maybe try edibles as a healthier alternative basically come up with three items youve determined that each type or whichever'"
      ]
     },
     "execution_count": 175,
     "metadata": {},
     "output_type": "execute_result"
    }
   ],
   "source": [
    "import re\n",
    "\n",
    "# Testing on 1 post\n",
    "test_post = data.posts[0].lower()\n",
    "\n",
    "# Def function for removing ||| delimiters\n",
    "def remove_delimiters(delimiters, s):\n",
    "    new_s = s\n",
    "    for i in delimiters:\n",
    "        new_s = new_s.replace(i, ' ')\n",
    "    return ' '.join(new_s.split())\n",
    "\n",
    "test_post = remove_delimiters('|||', test_post)\n",
    "\n",
    "# Dropping numbers - don't appear to have meaning and might mess up modeling later\n",
    "test_post = ''.join([i for i in test_post if not i.isdigit()])\n",
    "\n",
    "# Expressions to drop\n",
    "regex_todrop = ['[.+]','[(+]','[+)]','[+/+]','[:+:]','[+?]','[+/+]','[+~]','[+,+]',\n",
    "                \"[+'+]\",'[+-+]']\n",
    "\n",
    "# First dropping URLs\n",
    "text = re.sub(r\"\\S*https?:\\S*\", \"\", test_post) # Dropping URLs\n",
    "\n",
    "# Drop regex\n",
    "for r in regex_todrop:\n",
    "    text = re.sub(r, \"\", text)\n",
    "\n",
    "# Quick check on first 800 characters\n",
    "text[:800]"
   ]
  },
  {
   "cell_type": "code",
   "execution_count": 176,
   "id": "ccb87210",
   "metadata": {
    "scrolled": true
   },
   "outputs": [
    {
     "name": "stdout",
     "output_type": "stream",
     "text": [
      "['enfp', 'intj', 'moments', 'sportscenter', 'plays', 'pranks', 'what', 'been', 'most', 'life']\n"
     ]
    }
   ],
   "source": [
    "# Topic modelling\n",
    "tokens = nltk.word_tokenize(text)\n",
    "tkns = [w for w in tokens if len(w) >= 4]\n",
    "\n",
    "tags = nltk.pos_tag(tkns)\n",
    "nouns = [word for (word, tag) in tags if tag == 'NN']\n",
    "\n",
    "tfidf = vectorizer.fit_transform(tkns)\n",
    "\n",
    "sample1 = sorted(vectorizer.vocabulary_,\n",
    "                 key = lambda x: tfidf[0, vectorizer.vocabulary_[x]],\n",
    "                 reverse = True)\n",
    "print(sample1[:10])"
   ]
  },
  {
   "cell_type": "markdown",
   "id": "e358de1d",
   "metadata": {},
   "source": [
    "# Cleaning"
   ]
  },
  {
   "cell_type": "code",
   "execution_count": null,
   "id": "7973d259",
   "metadata": {},
   "outputs": [],
   "source": [
    "# Joining all text data - this took a long time lol\n",
    "all_posts = ' '.join(data.posts)\n",
    "\n",
    "# And dropping URLs\n",
    "all_posts = re.sub(r\"\\S*https?:\\S*\", \"\", all_posts)"
   ]
  },
  {
   "cell_type": "code",
   "execution_count": null,
   "id": "4b0d9bdc",
   "metadata": {},
   "outputs": [],
   "source": [
    "# Dropping delimiters, numbers\n",
    "all_cln = remove_delimiters('|||', all_posts)\n",
    "all_cln = ''.join([i for i in all_cln if not i.isdigit()])"
   ]
  },
  {
   "cell_type": "code",
   "execution_count": 183,
   "id": "d5844f10",
   "metadata": {},
   "outputs": [
    {
     "data": {
      "text/plain": [
       "'thing about peer pressure banned for a whole host of two baby deer on left and right munching on a beetle in the middle  using their own blood two cavemen diary todays latest happenings on their designated cave diary wall  i see it as a pokemon world an infj society everyone becomes an all artists are artists because they draw its the idea that counts in forming something of your own like a signature welcome to the robot ranks person who downed my self-esteem cuz im not an avid signature artist like herself proud banned for taking all the room under my bed ya gotta learn to share with the for being too much of a thundering grumbling kind of storm yep ahh old high school music i havent heard in ages failed a public speaking class a few years ago and ive sort of learned what i could do better were i to be in that position again a big part of my failure was just overloading myself with too i like this persons mentality hes a confirmed intj by the way to the denver area and start a new lif'"
      ]
     },
     "execution_count": 183,
     "metadata": {},
     "output_type": "execute_result"
    }
   ],
   "source": [
    "# Dropping regex\n",
    "clean_text_all = all_cln\n",
    "\n",
    "for r in regex_todrop:\n",
    "    clean_text_all = re.sub(r, \"\", clean_text_all)\n",
    "\n",
    "# Correcting case\n",
    "clean_text_all = clean_text_all.lower()\n",
    "\n",
    "# Quick check\n",
    "clean_text_all[2000:3000]"
   ]
  },
  {
   "cell_type": "code",
   "execution_count": null,
   "id": "28188aae",
   "metadata": {},
   "outputs": [],
   "source": [
    "# QUESTION - Drop MBTI types in text?"
   ]
  },
  {
   "cell_type": "raw",
   "id": "32aef4b0",
   "metadata": {},
   "source": [
    "# Optional - drop MBTI in text?\n",
    "\n",
    "to_drop = ['intp','istp','entp','enfp','isfp','infp','intj','infj',\n",
    "           'estj','entj','esfj','enfj','istj','isfj','estp','esfp',\n",
    "           'cheshirewolftumblrcom', 'extj', 'jane', 'shawn', 'spencer']\n",
    "\n",
    "topics = top_nouns_cln\n",
    "\n",
    "for i in range(0, len(to_drop)-1):\n",
    "    topics = [x for x in topics if to_drop[i] not in x]"
   ]
  },
  {
   "cell_type": "markdown",
   "id": "e90ddd1b",
   "metadata": {},
   "source": [
    "# EDA"
   ]
  },
  {
   "cell_type": "markdown",
   "id": "6e3b72e5",
   "metadata": {},
   "source": [
    "# Topic modeling"
   ]
  },
  {
   "cell_type": "code",
   "execution_count": null,
   "id": "5e80d3c1",
   "metadata": {},
   "outputs": [],
   "source": [
    "tokens = nltk.word_tokenize(clean_text_all) # full text\n",
    "\n",
    "# Filtering for nouns\n",
    "tags = nltk.pos_tag(tokens)\n",
    "nouns = [word for (word, tag) in tags if tag == 'NN']\n",
    "\n",
    "# Fit Tfidf to nouns only for topic modeling\n",
    "tfidf = vectorizer.fit_transform(nouns)\n",
    "\n",
    "all_nouns = sorted(vectorizer.vocabulary_,\n",
    "                   key = lambda x: tfidf[0, vectorizer.vocabulary_[x]],\n",
    "                   reverse = True)"
   ]
  },
  {
   "cell_type": "code",
   "execution_count": 184,
   "id": "8ecb8d36",
   "metadata": {},
   "outputs": [
    {
     "name": "stdout",
     "output_type": "stream",
     "text": [
      "66963 63167\n"
     ]
    }
   ],
   "source": [
    "from collections import Counter\n",
    "uniq_nouns = Counter(all_nouns_filt).keys() # dict_keys\n",
    "\n",
    "print(len(all_nouns), len(uniq_nouns))"
   ]
  },
  {
   "cell_type": "code",
   "execution_count": null,
   "id": "88242822",
   "metadata": {
    "scrolled": true
   },
   "outputs": [],
   "source": [
    "# For removing stopwords\n",
    "from nltk.corpus import stopwords\n",
    "nltk.download('stopwords')\n",
    "stop_words = set(stopwords.words('english'))"
   ]
  },
  {
   "cell_type": "code",
   "execution_count": 194,
   "id": "187a8e62",
   "metadata": {},
   "outputs": [
    {
     "name": "stdout",
     "output_type": "stream",
     "text": [
      "['experience', 'repeat', 'today', 'perc', 'immerse', 'thing', 'infj', 'friend', 'facebook', 'peace', 'enfj', 'sorry', 'distress', 'relationship', 'perfection', 'time', 'moment', 'existence', 'growth', 'welcome', 'game', 'match', 'prozac', 'wellbrutin', 'dont', 'mean', 'desk', 'chair', 'weed', 'moderation', 'healthier', 'type', 'whatnot', 'video', 'note', 'death', 'someone', 'everyone', 'wait', 'confidence', 'world', 'youre', 'personalitywell', 'outlet', 'part', 'thread', 'backyard', 'roast', 'something', 'sentence', 'corner', 'health', 'class', 'nothing', 'peer', 'pressure', 'host', 'left', 'munching', 'beetle', 'middle', 'blood', 'wall', 'pokemon', 'society', 'idea', 'signature', 'robot', 'person', 'artist', 'room', 'share', 'kind', 'storm', 'school', 'music', 'speaking', 'sort', 'position', 'failure', 'mentality', 'intj', 'area', 'life', 'lack', 'example', 'girlfriend', 'environment', 'cowgirl', 'meaning', 'theory', 'hello', 'presence', 'wordplay', 'cheeky', 'balance', 'hand', 'coordination', 'test', 'entp', 'site', 'year', 'return', 'sherlock', 'knowledge', 'cheshirewolftumblrcom', 'post', 'strength', 'shooter', 'look', 'rock', 'paper', 'tumblr', 'system', 'hell', 'soundtrack', 'auto', 'sound', 'equipment', 'couple', 'aware', 'shawn', 'spencer', 'jane', 'heart', 'mixed', 'dominate', 'clip', 'mouth', 'anything', 'assassin', 'style', 'song', 'singer', 'beat', 'vswck', 'playing', 'background', 'extrovert', 'movie', 'extj', 'estj', 'fear', 'animal', 'taste', 'didnt', 'problem', 'impression', 'okay', 'crush', 'nightmare', 'place', 'killer', 'infp', 'list', 'quota', 'infjs', 'female', 'deal', 'antp', 'entps', 'intps', 'shock', 'treatment', 'building', 'batty', 'jumper', 'compliment', 'trust', 'lawn', 'theme', 'work', 'mine', 'pleasure', 'advice', 'duck', 'shotgun', 'back', 'awesome', 'play', 'neuropsychology', 'psychologist', 'nightowl', 'till', 'opinion', 'need', 'desktop', 'stock', 'photoshop', 'glad', 'line', 'avatar', '_____', 'course', 'blessing', 'curse', 'count', 'love', 'case', 'link']\n"
     ]
    }
   ],
   "source": [
    "top_100 = [n for n in all_nouns if len(n) >= 4][:200]\n",
    "top_100 = [w for w in top_100 if w.lower() not in stop_words]\n",
    "print(top_100)"
   ]
  },
  {
   "cell_type": "code",
   "execution_count": null,
   "id": "f2758d50",
   "metadata": {},
   "outputs": [],
   "source": [
    "from functools import reduce\n",
    "posts_100 = list(data.posts[:1100])"
   ]
  },
  {
   "cell_type": "code",
   "execution_count": 245,
   "id": "c47cf1e6",
   "metadata": {},
   "outputs": [],
   "source": [
    "topic_freq = {}\n",
    "\n",
    "for topic in top_100[:20]:\n",
    "    topic_freq.setdefault(topic, 0)"
   ]
  },
  {
   "cell_type": "code",
   "execution_count": 246,
   "id": "0ef97eba",
   "metadata": {},
   "outputs": [],
   "source": [
    "for post in posts_100:\n",
    "    for topic in topic_freq.keys():\n",
    "        if topic in post:\n",
    "            topic_freq[topic] += 1\n",
    "        else: pass"
   ]
  },
  {
   "cell_type": "code",
   "execution_count": 235,
   "id": "2f8236d7",
   "metadata": {},
   "outputs": [
    {
     "data": {
      "text/plain": [
       "{'experience': 526,\n",
       " 'repeat': 106,\n",
       " 'today': 304,\n",
       " 'perc': 262,\n",
       " 'immerse': 10,\n",
       " 'thing': 1084,\n",
       " 'infj': 61,\n",
       " 'friend': 897,\n",
       " 'facebook': 55,\n",
       " 'peace': 98}"
      ]
     },
     "execution_count": 235,
     "metadata": {},
     "output_type": "execute_result"
    }
   ],
   "source": [
    "topic_freq"
   ]
  },
  {
   "cell_type": "code",
   "execution_count": 277,
   "id": "90370f6d",
   "metadata": {},
   "outputs": [
    {
     "data": {
      "image/png": "[encoded data removed]",
      "text/plain": [
       "<Figure size 800x600 with 1 Axes>"
      ]
     },
     "metadata": {},
     "output_type": "display_data"
    }
   ],
   "source": [
    "plt.style.use('seaborn-v0_8')\n",
    "\n",
    "topics_df = pd.Series(topic_freq).to_frame()\n",
    "topics_df.columns = ['count']\n",
    "topics_df = topics_df.sort_values(by = 'count', ascending = True)\n",
    "\n",
    "topics_df.plot.barh(figsize = (8,6), title = 'Most frequent topics in first 100 posts',\n",
    "                    xlabel = 'Count', fontsize = 10, legend = False);"
   ]
  },
  {
   "cell_type": "code",
   "execution_count": null,
   "id": "a7349340",
   "metadata": {},
   "outputs": [],
   "source": [
    "# QUESTION - Some of these are not nouns?"
   ]
  },
  {
   "cell_type": "markdown",
   "id": "a98dd26c",
   "metadata": {},
   "source": [
    "# Wordcloud"
   ]
  },
  {
   "cell_type": "code",
   "execution_count": null,
   "id": "de0d9c57",
   "metadata": {},
   "outputs": [],
   "source": [
    "# from wordcloud import WordCloud, STOPWORDS, ImageColorGenerator\n",
    "import wordcloud\n",
    "# ImportError: not valid for use in process: Trying to load an unsigned library"
   ]
  },
  {
   "cell_type": "markdown",
   "id": "af25943c",
   "metadata": {},
   "source": [
    "# Topics by type"
   ]
  },
  {
   "cell_type": "code",
   "execution_count": null,
   "id": "45473147",
   "metadata": {},
   "outputs": [],
   "source": [
    "# Group by type and look at topics? EDA"
   ]
  },
  {
   "cell_type": "markdown",
   "id": "3df7336b",
   "metadata": {},
   "source": [
    "# Next"
   ]
  },
  {
   "cell_type": "markdown",
   "id": "c785c970",
   "metadata": {},
   "source": [
    "- look up AllenNLP\n",
    "- try SpaCy or Polyglot pos tagging vs. nltk\n",
    "- look up sentence segmentation\n",
    "- look up TextBlob (nltk) for phrase freq, spelling correction, classification\n",
    "- look up Gensim for semantic search"
   ]
  }
 ],
 "metadata": {
  "kernelspec": {
   "display_name": "Python 3 (ipykernel)",
   "language": "python",
   "name": "python3"
  },
  "language_info": {
   "codemirror_mode": {
    "name": "ipython",
    "version": 3
   },
   "file_extension": ".py",
   "mimetype": "text/x-python",
   "name": "python",
   "nbconvert_exporter": "python",
   "pygments_lexer": "ipython3",
   "version": "3.10.9"
  }
 },
 "nbformat": 4,
 "nbformat_minor": 5
}
